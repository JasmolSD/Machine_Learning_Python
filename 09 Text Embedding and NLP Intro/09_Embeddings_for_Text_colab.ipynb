{
  "cells": [
    {
      "cell_type": "markdown",
      "metadata": {
        "id": "MKsRDH5ZUdfasdv"
      },
      "source": [
        "# Assignment 9"
      ]
    },
    {
      "cell_type": "markdown",
      "metadata": {
        "id": "oJ7ZpfL06aEY"
      },
      "source": [
        "### <span style=\"color:chocolate\"> Submission requirements </span>\n",
        "\n",
        "Your work will not be graded if your notebook doesn't include output. In other words, <span style=\"color:red\"> make sure to rerun your notebook before submitting to Gradescope </span> (Note: if you are using Google Colab: go to Edit > Notebook Settings  and uncheck Omit code cell output when saving this notebook, otherwise the output is not printed).\n",
        "\n",
        "Additional points may be deducted if these requirements are not met:\n",
        "\n",
        "    \n",
        "* Comment your code;\n",
        "* Each graph should have a title, labels for each axis, and (if needed) a legend. Each graph should be understandable on its own;\n",
        "* Try and minimize the use of the global namespace (meaning, keep things inside functions).\n",
        "---"
      ]
    },
    {
      "cell_type": "markdown",
      "metadata": {
        "id": "Sn_wnK_Y6aEZ"
      },
      "source": [
        "### Import libraries"
      ]
    },
    {
      "cell_type": "code",
      "execution_count": 1,
      "metadata": {
        "id": "7X58hOMTUH-w"
      },
      "outputs": [],
      "source": [
        "import numpy as np\n",
        "from matplotlib import pyplot as plt\n",
        "import pandas as pd\n",
        "import seaborn as sns  # for nicer plots\n",
        "sns.set(style=\"darkgrid\")  # default style\n",
        "import plotly.graph_objs as plotly  # for interactive plots\n",
        "\n",
        "import tensorflow as tf\n",
        "from tensorflow.keras.datasets import imdb"
      ]
    },
    {
      "cell_type": "markdown",
      "metadata": {
        "id": "gtu_SSWR6aEb"
      },
      "source": [
        "---\n",
        "### Step 1: Data ingestion"
      ]
    },
    {
      "cell_type": "markdown",
      "metadata": {
        "id": "eqppUDpmdptk"
      },
      "source": [
        "In this lab, you'll train a <span style=\"color:chocolate\">sentiment</span> classifier for movie reviews.\n",
        "\n",
        "* The input is the text of a movie review;\n",
        "* The output is the probability the input is a positive review.\n",
        "* The target labels are binary, 0 for negative and 1 for positive.\n",
        "\n",
        "The data includes 50,000 movie reviews on IMDB. The data comes pre-segmented into train and test splits. The [data loading function](https://www.tensorflow.org/api_docs/python/tf/keras/datasets/imdb/load_data) below also splits each input text into tokens (words), and maps the words to integer values. Each input is a sequence of integers corresponding to the words."
      ]
    },
    {
      "cell_type": "code",
      "execution_count": 2,
      "metadata": {
        "colab": {
          "base_uri": "https://localhost:8080/"
        },
        "id": "s6M-asvhQWV_",
        "outputId": "79324c0f-b12c-4623-efd2-2ad95752a151"
      },
      "outputs": [
        {
          "output_type": "stream",
          "name": "stdout",
          "text": [
            "Downloading data from https://storage.googleapis.com/tensorflow/tf-keras-datasets/imdb.npz\n",
            "\u001b[1m17464789/17464789\u001b[0m \u001b[32m━━━━━━━━━━━━━━━━━━━━\u001b[0m\u001b[37m\u001b[0m \u001b[1m0s\u001b[0m 0us/step\n",
            "X_train.shape: (25000,)\n",
            "Y_train.shape: (25000,)\n",
            "X_test.shape: (25000,)\n",
            "Y_test.shape: (25000,)\n"
          ]
        }
      ],
      "source": [
        "# read data\n",
        "(X_train, Y_train), (X_test, Y_test) = imdb.load_data(path=\"imdb.npz\",\n",
        "                                                      num_words=None,\n",
        "                                                      skip_top=0,\n",
        "                                                      maxlen=None,\n",
        "                                                      seed=113,\n",
        "                                                      start_char=1,\n",
        "                                                      oov_char=2,\n",
        "                                                      index_from=3)\n",
        "\n",
        "print(\"X_train.shape:\", X_train.shape)\n",
        "print(\"Y_train.shape:\", Y_train.shape)\n",
        "print(\"X_test.shape:\", X_test.shape)\n",
        "print(\"Y_test.shape:\", Y_test.shape)"
      ]
    },
    {
      "cell_type": "markdown",
      "metadata": {
        "id": "4pfu6bOi6aEb"
      },
      "source": [
        "---\n",
        "### Step 2: Data preprocessing"
      ]
    },
    {
      "cell_type": "markdown",
      "metadata": {
        "id": "I44FzJkk6aEc"
      },
      "source": [
        "Let's have a look at the first training example:"
      ]
    },
    {
      "cell_type": "code",
      "execution_count": 3,
      "metadata": {
        "colab": {
          "base_uri": "https://localhost:8080/"
        },
        "id": "5-zqYhvo6aEc",
        "outputId": "4ed0038c-a5ca-4555-b49d-7cbc6292359c"
      },
      "outputs": [
        {
          "output_type": "stream",
          "name": "stdout",
          "text": [
            "First training example data: [1, 14, 22, 16, 43, 530, 973, 1622, 1385, 65, 458, 4468, 66, 3941, 4, 173, 36, 256, 5, 25, 100, 43, 838, 112, 50, 670, 22665, 9, 35, 480, 284, 5, 150, 4, 172, 112, 167, 21631, 336, 385, 39, 4, 172, 4536, 1111, 17, 546, 38, 13, 447, 4, 192, 50, 16, 6, 147, 2025, 19, 14, 22, 4, 1920, 4613, 469, 4, 22, 71, 87, 12, 16, 43, 530, 38, 76, 15, 13, 1247, 4, 22, 17, 515, 17, 12, 16, 626, 18, 19193, 5, 62, 386, 12, 8, 316, 8, 106, 5, 4, 2223, 5244, 16, 480, 66, 3785, 33, 4, 130, 12, 16, 38, 619, 5, 25, 124, 51, 36, 135, 48, 25, 1415, 33, 6, 22, 12, 215, 28, 77, 52, 5, 14, 407, 16, 82, 10311, 8, 4, 107, 117, 5952, 15, 256, 4, 31050, 7, 3766, 5, 723, 36, 71, 43, 530, 476, 26, 400, 317, 46, 7, 4, 12118, 1029, 13, 104, 88, 4, 381, 15, 297, 98, 32, 2071, 56, 26, 141, 6, 194, 7486, 18, 4, 226, 22, 21, 134, 476, 26, 480, 5, 144, 30, 5535, 18, 51, 36, 28, 224, 92, 25, 104, 4, 226, 65, 16, 38, 1334, 88, 12, 16, 283, 5, 16, 4472, 113, 103, 32, 15, 16, 5345, 19, 178, 32]\n",
            "First training example label: 1\n"
          ]
        }
      ],
      "source": [
        "print('First training example data:', X_train[0])\n",
        "print('First training example label:', Y_train[0])"
      ]
    },
    {
      "cell_type": "markdown",
      "metadata": {
        "id": "MyIWiy-4gQK-"
      },
      "source": [
        "As you can see, the first training example is a positive review. However, that sequence of integer IDs is hard to read.\n",
        "\n",
        "The data loader provides a dictionary mapping words to IDs. Let's create a reverse index.\n"
      ]
    },
    {
      "cell_type": "code",
      "execution_count": 4,
      "metadata": {
        "colab": {
          "base_uri": "https://localhost:8080/"
        },
        "id": "HQ-qATkhUj7c",
        "outputId": "702465a0-4bf7-4259-df3a-28cda2dce293"
      },
      "outputs": [
        {
          "output_type": "stream",
          "name": "stdout",
          "text": [
            "Downloading data from https://storage.googleapis.com/tensorflow/tf-keras-datasets/imdb_word_index.json\n",
            "\u001b[1m1641221/1641221\u001b[0m \u001b[32m━━━━━━━━━━━━━━━━━━━━\u001b[0m\u001b[37m\u001b[0m \u001b[1m0s\u001b[0m 0us/step\n",
            "Largest ID: 88587\n"
          ]
        }
      ],
      "source": [
        "# The imdb dataset comes with an index mapping words to integers.\n",
        "# In the index the words are ordered by frequency they occur.\n",
        "index = imdb.get_word_index()\n",
        "\n",
        "# Because we used index_from=3 (above), setting aside ids below 3 for special\n",
        "# symbols, we need to add 3 to the index values.\n",
        "index = dict([(key, value+3) for (key, value) in index.items()])\n",
        "\n",
        "# Create a reverse index so we can lookup tokens assigned to each id.\n",
        "reverse_index = dict([(value, key) for (key, value) in index.items()])\n",
        "reverse_index[1] = '<START>'  # start of input\n",
        "reverse_index[2] = '#'        # out-of-vocabulary (OOV)\n",
        "reverse_index[3] = '<UNUSED>'\n",
        "\n",
        "max_id = max(reverse_index.keys())\n",
        "print('Largest ID:', max_id)"
      ]
    },
    {
      "cell_type": "markdown",
      "metadata": {
        "id": "h76-b07ehWNQ"
      },
      "source": [
        "Note that our index (and reverse index) have <span style=\"color:chocolate\">88,587</span> tokens. That's quite <span style=\"color:chocolate\">a large vocabulary</span>!\n",
        "\n",
        "Next, let's write a decoding function for our data."
      ]
    },
    {
      "cell_type": "code",
      "execution_count": 5,
      "metadata": {
        "colab": {
          "base_uri": "https://localhost:8080/"
        },
        "id": "UjobmouHS5Dm",
        "outputId": "e1b01d2f-c14a-41f8-9de5-f8e537ebd5e6"
      },
      "outputs": [
        {
          "output_type": "stream",
          "name": "stdout",
          "text": [
            "[1, 14, 22, 16, 43, 530, 973, 1622, 1385, 65, 458, 4468, 66, 3941, 4, 173, 36, 256, 5, 25, 100, 43, 838, 112, 50, 670, 22665, 9, 35, 480, 284, 5, 150, 4, 172, 112, 167, 21631, 336, 385, 39, 4, 172, 4536, 1111, 17, 546, 38, 13, 447, 4, 192, 50, 16, 6, 147, 2025, 19, 14, 22, 4, 1920, 4613, 469, 4, 22, 71, 87, 12, 16, 43, 530, 38, 76, 15, 13, 1247, 4, 22, 17, 515, 17, 12, 16, 626, 18, 19193, 5, 62, 386, 12, 8, 316, 8, 106, 5, 4, 2223, 5244, 16, 480, 66, 3785, 33, 4, 130, 12, 16, 38, 619, 5, 25, 124, 51, 36, 135, 48, 25, 1415, 33, 6, 22, 12, 215, 28, 77, 52, 5, 14, 407, 16, 82, 10311, 8, 4, 107, 117, 5952, 15, 256, 4, 31050, 7, 3766, 5, 723, 36, 71, 43, 530, 476, 26, 400, 317, 46, 7, 4, 12118, 1029, 13, 104, 88, 4, 381, 15, 297, 98, 32, 2071, 56, 26, 141, 6, 194, 7486, 18, 4, 226, 22, 21, 134, 476, 26, 480, 5, 144, 30, 5535, 18, 51, 36, 28, 224, 92, 25, 104, 4, 226, 65, 16, 38, 1334, 88, 12, 16, 283, 5, 16, 4472, 113, 103, 32, 15, 16, 5345, 19, 178, 32]\n",
            "<START> this film was just brilliant casting location scenery story direction everyone's really suited the part they played and you could just imagine being there robert redford's is an amazing actor and now the same being director norman's father came from the same scottish island as myself so i loved the fact there was a real connection with this film the witty remarks throughout the film were great it was just brilliant so much that i bought the film as soon as it was released for retail and would recommend it to everyone to watch and the fly fishing was amazing really cried at the end it was so sad and you know what they say if you cry at a film it must have been good and this definitely was also congratulations to the two little boy's that played the part's of norman and paul they were just brilliant children are often left out of the praising list i think because the stars that play them all grown up are such a big profile for the whole film but these children are amazing and should be praised for what they have done don't you think the whole story was so lovely because it was true and was someone's life after all that was shared with us all\n"
          ]
        }
      ],
      "source": [
        "def decode(token_ids):\n",
        "  \"\"\"Return a string with the decoded text given a list of token ids.\"\"\"\n",
        "  # Try looking up each id in the index, but return '#' (for OOV) if not found.\n",
        "  tokens = [reverse_index.get(i, \"#\") for i in token_ids]\n",
        "\n",
        "  # Connect the string tokens with a space.\n",
        "  return ' '.join(tokens)\n",
        "\n",
        "# Show the ids corresponding tokens in the first example.\n",
        "print(X_train[0])\n",
        "print(decode(X_train[0]))"
      ]
    },
    {
      "cell_type": "markdown",
      "metadata": {
        "id": "kbH8XKbP6aEd"
      },
      "source": [
        "---\n",
        "### Step 3: Exploratory Data Analysis (EDA)"
      ]
    },
    {
      "cell_type": "markdown",
      "metadata": {
        "id": "uDd9pqTE6aEd"
      },
      "source": [
        "### <span style=\"color:chocolate\">Exercise 1:</span> Text lengths (10 points)"
      ]
    },
    {
      "cell_type": "markdown",
      "metadata": {
        "id": "g47w5CackGBA"
      },
      "source": [
        "Using the training reviews data, answer the following questions:\n",
        "\n",
        "1. What are the minimum, maximum, and mean lengths of positive and negative reviews?\n",
        "2. Create a histogram to visualize the distribution of positive and negative review lengths. Make sure to provide a descriptive title and axis labels."
      ]
    },
    {
      "cell_type": "code",
      "execution_count": 12,
      "metadata": {
        "colab": {
          "base_uri": "https://localhost:8080/",
          "height": 609
        },
        "id": "B4xmSk-o6aEd",
        "outputId": "a5423fa3-2674-400b-c489-2fbdc26cf7a6"
      },
      "outputs": [
        {
          "output_type": "stream",
          "name": "stdout",
          "text": [
            "Positive Reviews - Min: 13, Max: 2494, Mean: 241.56\n",
            "Negative Reviews - Min: 11, Max: 1571, Mean: 235.86\n"
          ]
        },
        {
          "output_type": "display_data",
          "data": {
            "text/plain": [
              "<Figure size 1200x600 with 1 Axes>"
            ],
            "image/png": "[encoded data removed]"
          },
          "metadata": {}
        }
      ],
      "source": [
        "# Calculate review lengths\n",
        "review_lengths = [len(review) for review in X_train]\n",
        "\n",
        "# Separate positive and negative reviews\n",
        "positive_review_lengths = [review_lengths[i] for i in range(len(Y_train)) if Y_train[i] == 1]\n",
        "negative_review_lengths = [review_lengths[i] for i in range(len(Y_train)) if Y_train[i] == 0]\n",
        "\n",
        "# Calculate statistics for positive reviews\n",
        "min_length_pos = min(positive_review_lengths)\n",
        "max_length_pos = max(positive_review_lengths)\n",
        "mean_length_pos = sum(positive_review_lengths) / len(positive_review_lengths)\n",
        "\n",
        "# Calculate statistics for negative reviews\n",
        "min_length_neg = min(negative_review_lengths)\n",
        "max_length_neg = max(negative_review_lengths)\n",
        "mean_length_neg = sum(negative_review_lengths) / len(negative_review_lengths)\n",
        "\n",
        "# Print the results\n",
        "print(f\"Positive Reviews - Min: {min_length_pos}, Max: {max_length_pos}, Mean: {mean_length_pos:.2f}\")\n",
        "print(f\"Negative Reviews - Min: {min_length_neg}, Max: {max_length_neg}, Mean: {mean_length_neg:.2f}\")\n",
        "\n",
        "# Plot histograms\n",
        "plt.figure(figsize=(12, 6))\n",
        "\n",
        "# Histogram for positive reviews\n",
        "plt.hist(positive_review_lengths, bins=30, alpha=0.5, label='Positive Reviews', color='blue')\n",
        "# Histogram for negative reviews\n",
        "plt.hist(negative_review_lengths, bins=30, alpha=0.5, label='Negative Reviews', color='red')\n",
        "\n",
        "# Titles and labels\n",
        "plt.title(\"Distribution of Positive and Negative Review Lengths\")\n",
        "plt.xlabel(\"Review Length\")\n",
        "plt.ylabel(\"Frequency\")\n",
        "plt.legend()\n",
        "\n",
        "# Show plot\n",
        "plt.show()"
      ]
    },
    {
      "cell_type": "markdown",
      "metadata": {
        "id": "Y7PU-ogH6aEd"
      },
      "source": [
        "### <span style=\"color:chocolate\">Exercise 2:</span> Token counts (10 points)"
      ]
    },
    {
      "cell_type": "markdown",
      "metadata": {
        "id": "c3ZE9gpkml3a"
      },
      "source": [
        "Using the training data, create a table listing the counts of positive and negative examples that contain each token provided below."
      ]
    },
    {
      "cell_type": "code",
      "execution_count": 16,
      "metadata": {
        "id": "8YOYo6d01aWI",
        "colab": {
          "base_uri": "https://localhost:8080/"
        },
        "outputId": "6193a236-e056-416c-f1b2-bc6a5620b42a"
      },
      "outputs": [
        {
          "output_type": "stream",
          "name": "stdout",
          "text": [
            "         Positive Count  Negative Count\n",
            "good               4920            4949\n",
            "bad                1639            4740\n",
            "amazing             943             314\n",
            "boring              313            1224\n",
            "laugh              1241            1824\n",
            "cry                 386             299\n"
          ]
        }
      ],
      "source": [
        "tokens = ['good', 'bad', 'amazing', 'boring', 'laugh', 'cry']\n",
        "\n",
        "# Initialize counters\n",
        "token_counts = {token: {'positive': 0, 'negative': 0} for token in tokens}\n",
        "\n",
        "# Iterate through each word of the reviews\n",
        "for review, sentiment in zip(X_train, Y_train):\n",
        "    # Decode\n",
        "    words_in_review = decode(review)\n",
        "\n",
        "    # Update counts\n",
        "    for token in tokens:\n",
        "        if token in words_in_review:\n",
        "            if sentiment == 1:  # Positive review\n",
        "                token_counts[token]['positive'] += 1\n",
        "            else:  # Negative review\n",
        "                token_counts[token]['negative'] += 1\n",
        "\n",
        "# Make dataframe\n",
        "token_counts_df = pd.DataFrame(token_counts).T\n",
        "token_counts_df.columns = ['Positive Count', 'Negative Count']\n",
        "\n",
        "# Display the table\n",
        "print(token_counts_df)"
      ]
    },
    {
      "cell_type": "markdown",
      "metadata": {
        "id": "CIvkRM-U6aEd"
      },
      "source": [
        "---\n",
        "### Step 4: Data preprocessing (cont'd)"
      ]
    },
    {
      "cell_type": "markdown",
      "metadata": {
        "id": "12vwoZTs6aEe"
      },
      "source": [
        "As is clear from the review length histogram, the current representation of the review text is a variable-length array. Since fixed-length arrays are easier to work with in Tensorflow, you will add special padding tokens at the end of each review until they are all the same length. You will also truncate all training inputs to a specified length."
      ]
    },
    {
      "cell_type": "markdown",
      "metadata": {
        "id": "jlERBFAc6aEe"
      },
      "source": [
        "### <span style=\"color:chocolate\">Exercise 3:</span> Reduced length and padding (10 points)"
      ]
    },
    {
      "cell_type": "markdown",
      "metadata": {
        "id": "OS3u7DG56aEe"
      },
      "source": [
        "Fill in the <span style=\"color:green\">NotImplemented</span> parts of the <span style=\"color:chocolate\">truncate_pad_data()</span> function below by following these instructions:\n",
        "\n",
        "1. Restrict the maximum number of tokens by truncating all reviews to a length of 300;\n",
        "2. Append special padding tokens (value = 0) to the end of each review until all reviews are of the same length."
      ]
    },
    {
      "cell_type": "code",
      "execution_count": 26,
      "metadata": {
        "colab": {
          "base_uri": "https://localhost:8080/"
        },
        "id": "0gHpX5X36aEe",
        "outputId": "c8211e2d-1d68-4b8a-ff71-8d84b36128ba"
      },
      "outputs": [
        {
          "output_type": "stream",
          "name": "stdout",
          "text": [
            "Length of X_train[0]: 218\n",
            "Length of X_train_padded[0]: 300\n",
            "[    0     0     0     0     0     0     0     0     0     0     0     0\n",
            "     0     0     0     0     0     0     0     0     0     0     0     0\n",
            "     0     0     0     0     0     0     0     0     0     0     0     0\n",
            "     0     0     0     0     0     0     0     0     0     0     0     0\n",
            "     0     0     0     0     0     0     0     0     0     0     0     0\n",
            "     0     0     0     0     0     0     0     0     0     0     0     0\n",
            "     0     0     0     0     0     0     0     0     0     0     1    14\n",
            "    22    16    43   530   973  1622  1385    65   458  4468    66  3941\n",
            "     4   173    36   256     5    25   100    43   838   112    50   670\n",
            " 22665     9    35   480   284     5   150     4   172   112   167 21631\n",
            "   336   385    39     4   172  4536  1111    17   546    38    13   447\n",
            "     4   192    50    16     6   147  2025    19    14    22     4  1920\n",
            "  4613   469     4    22    71    87    12    16    43   530    38    76\n",
            "    15    13  1247     4    22    17   515    17    12    16   626    18\n",
            " 19193     5    62   386    12     8   316     8   106     5     4  2223\n",
            "  5244    16   480    66  3785    33     4   130    12    16    38   619\n",
            "     5    25   124    51    36   135    48    25  1415    33     6    22\n",
            "    12   215    28    77    52     5    14   407    16    82 10311     8\n",
            "     4   107   117  5952    15   256     4 31050     7  3766     5   723\n",
            "    36    71    43   530   476    26   400   317    46     7     4 12118\n",
            "  1029    13   104    88     4   381    15   297    98    32  2071    56\n",
            "    26   141     6   194  7486    18     4   226    22    21   134   476\n",
            "    26   480     5   144    30  5535    18    51    36    28   224    92\n",
            "    25   104     4   226    65    16    38  1334    88    12    16   283\n",
            "     5    16  4472   113   103    32    15    16  5345    19   178    32]\n"
          ]
        }
      ],
      "source": [
        "def truncate_pad_data(sequences, max_length):\n",
        "    # Keras has a convenient utility for padding a sequence:\n",
        "    # tf.keras.preprocessing.sequence.pad_sequences()\n",
        "    # Also make sure you get a numpy array rather than an array of lists.\n",
        "    padded_data = tf.keras.preprocessing.sequence.pad_sequences(sequences=sequences, maxlen=max_length)\n",
        "    return padded_data\n",
        "\n",
        "# 1+ 2: Truncate and pad the training data\n",
        "X_train_padded = truncate_pad_data(X_train, max_length=300)\n",
        "\n",
        "# Check the padded output.\n",
        "print('Length of X_train[0]:', len(X_train[0]))\n",
        "print('Length of X_train_padded[0]:', len(X_train_padded[0]))\n",
        "print(X_train_padded[0])"
      ]
    },
    {
      "cell_type": "markdown",
      "metadata": {
        "id": "2e9jG4TO6aEe"
      },
      "source": [
        "Next, you want to be able to limit the vocabulary size. Since the <span style=\"color:chocolate\">truncate_pad_data()</span> function produces fixed-length sequences in a numpy matrix, one can use clever numpy indexing to efficiently replace all token ids larger than some value with the designated out-of-vocabulary (OOV) id."
      ]
    },
    {
      "cell_type": "markdown",
      "metadata": {
        "id": "J7igURcl6aEe"
      },
      "source": [
        "### <span style=\"color:chocolate\">Exercise 4:</span> Reduced vocabulary (10 points)"
      ]
    },
    {
      "cell_type": "markdown",
      "metadata": {
        "id": "Z4r3UCcn6aEe"
      },
      "source": [
        "Fill in the <span style=\"color:green\">NotImplemented</span> parts of the <span style=\"color:chocolate\">limit_vocab()</span> function below by following these instructions:\n",
        "\n",
        "1. Keep just token ids less than 1000, replacing all others with OOV."
      ]
    },
    {
      "cell_type": "code",
      "execution_count": 27,
      "metadata": {
        "colab": {
          "base_uri": "https://localhost:8080/"
        },
        "id": "24gnO5xe6aEe",
        "outputId": "d5c67274-9e6a-4c52-9fa9-9ee1c1554365"
      },
      "outputs": [
        {
          "output_type": "stream",
          "name": "stdout",
          "text": [
            "[  0   0   0   0   0   0   0   0   0   0   0   0   0   0   0   0   0   0\n",
            "   0   0   0   0   0   0   0   0   0   0   0   0   0   0   0   0   0   0\n",
            "   0   0   0   0   0   0   0   0   0   0   0   0   0   0   0   0   0   0\n",
            "   0   0   0   0   0   0   0   0   0   0   0   0   0   0   0   0   0   0\n",
            "   0   0   0   0   0   0   0   0   0   0   1  14  22  16  43 530 973   2\n",
            "   2  65 458   2  66   2   4 173  36 256   5  25 100  43 838 112  50 670\n",
            "   2   9  35 480 284   5 150   4 172 112 167   2 336 385  39   4 172   2\n",
            "   2  17 546  38  13 447   4 192  50  16   6 147   2  19  14  22   4   2\n",
            "   2 469   4  22  71  87  12  16  43 530  38  76  15  13   2   4  22  17\n",
            " 515  17  12  16 626  18   2   5  62 386  12   8 316   8 106   5   4   2\n",
            "   2  16 480  66   2  33   4 130  12  16  38 619   5  25 124  51  36 135\n",
            "  48  25   2  33   6  22  12 215  28  77  52   5  14 407  16  82   2   8\n",
            "   4 107 117   2  15 256   4   2   7   2   5 723  36  71  43 530 476  26\n",
            " 400 317  46   7   4   2   2  13 104  88   4 381  15 297  98  32   2  56\n",
            "  26 141   6 194   2  18   4 226  22  21 134 476  26 480   5 144  30   2\n",
            "  18  51  36  28 224  92  25 104   4 226  65  16  38   2  88  12  16 283\n",
            "   5  16   2 113 103  32  15  16   2  19 178  32]\n",
            "\n",
            " Decoded review:\n",
            " # # # # # # # # # # # # # # # # # # # # # # # # # # # # # # # # # # # # # # # # # # # # # # # # # # # # # # # # # # # # # # # # # # # # # # # # # # # # # # # # # # <START> this film was just brilliant casting # # story direction # really # the part they played and you could just imagine being there robert # is an amazing actor and now the same being director # father came from the same # # as myself so i loved the fact there was a real # with this film the # # throughout the film were great it was just brilliant so much that i # the film as soon as it was released for # and would recommend it to everyone to watch and the # # was amazing really # at the end it was so sad and you know what they say if you # at a film it must have been good and this definitely was also # to the two little # that played the # of # and paul they were just brilliant children are often left out of the # # i think because the stars that play them all # up are such a big # for the whole film but these children are amazing and should be # for what they have done don't you think the whole story was so # because it was true and was # life after all that was # with us all\n"
          ]
        }
      ],
      "source": [
        "def limit_vocab(sequences, max_token_id, oov_id=2):\n",
        "  \"\"\"Replace token ids greater than or equal to max_token_id with the oov_id.\"\"\"\n",
        "  # Use np.where to replace values\n",
        "  reduced_sequences = np.where(sequences >= max_token_id, oov_id, sequences)\n",
        "  # Return the reduced sequences.\n",
        "  return reduced_sequences\n",
        "\n",
        "# Reduce vocabulary to 1000 tokens.\n",
        "X_train_reduced = limit_vocab(X_train_padded, max_token_id=1000)\n",
        "print(X_train_reduced[0])\n",
        "\n",
        "# Decode to see what this looks like in tokens. Note the '#' for OOVs.\n",
        "print(\"\\n Decoded review:\\n\", decode(X_train_reduced[0]))"
      ]
    },
    {
      "cell_type": "markdown",
      "metadata": {
        "id": "0IM_vVR-6aEe"
      },
      "source": [
        "### <span style=\"color:chocolate\">Exercise 5:</span> One-hot encoding (0 points)"
      ]
    },
    {
      "cell_type": "markdown",
      "metadata": {
        "id": "c_ELitLG6aEf"
      },
      "source": [
        "The current feature representations are **sparse**. That is, one only keeps track of the token ids that are present in the input. A **one-hot** encoding replaces a value like 22 (corresponding to 'film') with an array with a single 1 at position 22 and zeros everywhere else. This will be very memory-inefficient, but we'll do it anyway for clarity.\n",
        "\n",
        "To avoid any memory limitations, let's dramatically reduce both the number of token positions (review length) and the number of token ids (vocabulary).\n",
        "\n",
        "The code below clips each review after 20 tokens and keeps only the first 1000 tokens."
      ]
    },
    {
      "cell_type": "code",
      "execution_count": 28,
      "metadata": {
        "colab": {
          "base_uri": "https://localhost:8080/"
        },
        "id": "LV95rcIS6aEf",
        "outputId": "cdcfd0ae-1393-4f4b-a7c6-5f87d5f7c14b"
      },
      "outputs": [
        {
          "output_type": "stream",
          "name": "stdout",
          "text": [
            "X_train_one_hot shape: (25000, 20, 1000)\n"
          ]
        }
      ],
      "source": [
        "# Keras has a util to create one-hot encodings.\n",
        "X_train_padded = truncate_pad_data(X_train, max_length=20)\n",
        "X_train_reduced = limit_vocab(X_train_padded, max_token_id=1000)\n",
        "X_train_one_hot = tf.keras.utils.to_categorical(X_train_reduced)\n",
        "print('X_train_one_hot shape:', X_train_one_hot.shape)"
      ]
    },
    {
      "cell_type": "markdown",
      "metadata": {
        "id": "7o1f-kCP6aEf"
      },
      "source": [
        "Note the shape of the one-hot encoded features. For each of the 25000 training examples, you have a 20 x 1000 matrix. That is, for each of 20 token positions, you have a vector of 1000 elements containing a single 1 and 999 zeros.\n",
        "\n",
        "You can think of these 1000-dimensional one-hot arrays as **embeddings**. Each token in the input has a 1000-dimensional representation. But because of the one-hot setup, the distance between each pair of tokens is the same ([1,0,0,...], [0,1,0,...], etc.). By contrast, learned embeddings result in meaningful distances between pairs of tokens. You'll get to that soon."
      ]
    },
    {
      "cell_type": "markdown",
      "metadata": {
        "id": "NAjsJVIR6aEf"
      },
      "source": [
        "---\n",
        "### Step 5: Modeling"
      ]
    },
    {
      "cell_type": "markdown",
      "metadata": {
        "id": "HegrmEFa6aEf"
      },
      "source": [
        "### <span style=\"color:chocolate\">Baseline model:</span> Logistic regression with one-hot encodings"
      ]
    },
    {
      "cell_type": "markdown",
      "metadata": {
        "id": "296Cnt647b5c"
      },
      "source": [
        "You will start with something familiar -- logistic regression. Since your feature representation is in 2 dimensions (20 x 1000), you need to flatten it to pass it to Keras (remember you did this with the pixel data too). Try two strategies for flattening.\n",
        "\n",
        "1. Flatten by *concatenating* (as you did with pixels), turning (20 x 1000) data into (20000,) data. The result is a separate feature for each token at each position;\n",
        "2. Flatten by *averaging* over token positions, turning (20 x 1000) data into (1000,) data. The result is an array with average token counts, ignoring position."
      ]
    },
    {
      "cell_type": "code",
      "execution_count": 30,
      "metadata": {
        "id": "6m6eebM-0dUW"
      },
      "outputs": [],
      "source": [
        "def build_onehot_model(average_over_positions=False):\n",
        "  \"\"\"Build a tf.keras model for one-hot data.\"\"\"\n",
        "  # Clear session and remove randomness.\n",
        "  tf.keras.backend.clear_session()\n",
        "  tf.random.set_seed(0)\n",
        "\n",
        "  model = tf.keras.Sequential()\n",
        "\n",
        "  if average_over_positions:\n",
        "    # This layer averages over the first dimension of the input by default.\n",
        "    model.add(tf.keras.layers.GlobalAveragePooling1D())\n",
        "  else:\n",
        "    # Concatenate.\n",
        "    model.add(tf.keras.layers.Flatten())\n",
        "\n",
        "  model.add(tf.keras.layers.Dense(\n",
        "      units=1,                     # output dim (for binary classification)\n",
        "      activation=\"sigmoid\"         # sigmoid activation for binary classification\n",
        "  ))\n",
        "\n",
        "  model.compile(loss='binary_crossentropy',   # this is a classification task\n",
        "                optimizer='adam',             # fancy optimizer\n",
        "                metrics=['accuracy'])\n",
        "\n",
        "  return model"
      ]
    },
    {
      "cell_type": "markdown",
      "metadata": {
        "id": "NY3W_1-OSZ2X"
      },
      "source": [
        "Now let's try fitting the model to your training data and check performance metrics on the validation data. But first, here's a function for plotting the learning curves given the training history object we get from Keras."
      ]
    },
    {
      "cell_type": "code",
      "execution_count": 31,
      "metadata": {
        "id": "cOVmajSuMjN6"
      },
      "outputs": [],
      "source": [
        "def plot_history(history):\n",
        "  plt.ylabel('Loss')\n",
        "  plt.xlabel('Epoch')\n",
        "  plt.xticks(range(0, len(history['loss'] + 1)))\n",
        "  plt.plot(history['loss'], label=\"training\", marker='o')\n",
        "  plt.plot(history['val_loss'], label=\"validation\", marker='o')\n",
        "  plt.ylim(0,1)\n",
        "  plt.legend()\n",
        "  plt.show()"
      ]
    },
    {
      "cell_type": "code",
      "execution_count": 32,
      "metadata": {
        "colab": {
          "base_uri": "https://localhost:8080/",
          "height": 838
        },
        "id": "MyE4PgX70_op",
        "outputId": "3ea029d2-0c8a-4242-e2bf-896b5fff5c46"
      },
      "outputs": [
        {
          "output_type": "stream",
          "name": "stdout",
          "text": [
            "Epoch 1/5\n",
            "\u001b[1m352/352\u001b[0m \u001b[32m━━━━━━━━━━━━━━━━━━━━\u001b[0m\u001b[37m\u001b[0m \u001b[1m3s\u001b[0m 5ms/step - accuracy: 0.5677 - loss: 0.6863 - val_accuracy: 0.6464 - val_loss: 0.6664\n",
            "Epoch 2/5\n",
            "\u001b[1m352/352\u001b[0m \u001b[32m━━━━━━━━━━━━━━━━━━━━\u001b[0m\u001b[37m\u001b[0m \u001b[1m2s\u001b[0m 4ms/step - accuracy: 0.7428 - loss: 0.6400 - val_accuracy: 0.6708 - val_loss: 0.6460\n",
            "Epoch 3/5\n",
            "\u001b[1m352/352\u001b[0m \u001b[32m━━━━━━━━━━━━━━━━━━━━\u001b[0m\u001b[37m\u001b[0m \u001b[1m3s\u001b[0m 4ms/step - accuracy: 0.7786 - loss: 0.6022 - val_accuracy: 0.6744 - val_loss: 0.6307\n",
            "Epoch 4/5\n",
            "\u001b[1m352/352\u001b[0m \u001b[32m━━━━━━━━━━━━━━━━━━━━\u001b[0m\u001b[37m\u001b[0m \u001b[1m1s\u001b[0m 4ms/step - accuracy: 0.7951 - loss: 0.5710 - val_accuracy: 0.6796 - val_loss: 0.6190\n",
            "Epoch 5/5\n",
            "\u001b[1m352/352\u001b[0m \u001b[32m━━━━━━━━━━━━━━━━━━━━\u001b[0m\u001b[37m\u001b[0m \u001b[1m2s\u001b[0m 6ms/step - accuracy: 0.8098 - loss: 0.5446 - val_accuracy: 0.6824 - val_loss: 0.6100\n"
          ]
        },
        {
          "output_type": "display_data",
          "data": {
            "text/plain": [
              "\u001b[1mModel: \"sequential\"\u001b[0m\n"
            ],
            "text/html": [
              "<pre style=\"white-space:pre;overflow-x:auto;line-height:normal;font-family:Menlo,'DejaVu Sans Mono',consolas,'Courier New',monospace\"><span style=\"font-weight: bold\">Model: \"sequential\"</span>\n",
              "</pre>\n"
            ]
          },
          "metadata": {}
        },
        {
          "output_type": "display_data",
          "data": {
            "text/plain": [
              "┏━━━━━━━━━━━━━━━━━━━━━━━━━━━━━━━━━━━━━━┳━━━━━━━━━━━━━━━━━━━━━━━━━━━━━┳━━━━━━━━━━━━━━━━━┓\n",
              "┃\u001b[1m \u001b[0m\u001b[1mLayer (type)                        \u001b[0m\u001b[1m \u001b[0m┃\u001b[1m \u001b[0m\u001b[1mOutput Shape               \u001b[0m\u001b[1m \u001b[0m┃\u001b[1m \u001b[0m\u001b[1m        Param #\u001b[0m\u001b[1m \u001b[0m┃\n",
              "┡━━━━━━━━━━━━━━━━━━━━━━━━━━━━━━━━━━━━━━╇━━━━━━━━━━━━━━━━━━━━━━━━━━━━━╇━━━━━━━━━━━━━━━━━┩\n",
              "│ flatten (\u001b[38;5;33mFlatten\u001b[0m)                    │ (\u001b[38;5;45mNone\u001b[0m, \u001b[38;5;34m20000\u001b[0m)               │               \u001b[38;5;34m0\u001b[0m │\n",
              "├──────────────────────────────────────┼─────────────────────────────┼─────────────────┤\n",
              "│ dense (\u001b[38;5;33mDense\u001b[0m)                        │ (\u001b[38;5;45mNone\u001b[0m, \u001b[38;5;34m1\u001b[0m)                   │          \u001b[38;5;34m20,001\u001b[0m │\n",
              "└──────────────────────────────────────┴─────────────────────────────┴─────────────────┘\n"
            ],
            "text/html": [
              "<pre style=\"white-space:pre;overflow-x:auto;line-height:normal;font-family:Menlo,'DejaVu Sans Mono',consolas,'Courier New',monospace\">┏━━━━━━━━━━━━━━━━━━━━━━━━━━━━━━━━━━━━━━┳━━━━━━━━━━━━━━━━━━━━━━━━━━━━━┳━━━━━━━━━━━━━━━━━┓\n",
              "┃<span style=\"font-weight: bold\"> Layer (type)                         </span>┃<span style=\"font-weight: bold\"> Output Shape                </span>┃<span style=\"font-weight: bold\">         Param # </span>┃\n",
              "┡━━━━━━━━━━━━━━━━━━━━━━━━━━━━━━━━━━━━━━╇━━━━━━━━━━━━━━━━━━━━━━━━━━━━━╇━━━━━━━━━━━━━━━━━┩\n",
              "│ flatten (<span style=\"color: #0087ff; text-decoration-color: #0087ff\">Flatten</span>)                    │ (<span style=\"color: #00d7ff; text-decoration-color: #00d7ff\">None</span>, <span style=\"color: #00af00; text-decoration-color: #00af00\">20000</span>)               │               <span style=\"color: #00af00; text-decoration-color: #00af00\">0</span> │\n",
              "├──────────────────────────────────────┼─────────────────────────────┼─────────────────┤\n",
              "│ dense (<span style=\"color: #0087ff; text-decoration-color: #0087ff\">Dense</span>)                        │ (<span style=\"color: #00d7ff; text-decoration-color: #00d7ff\">None</span>, <span style=\"color: #00af00; text-decoration-color: #00af00\">1</span>)                   │          <span style=\"color: #00af00; text-decoration-color: #00af00\">20,001</span> │\n",
              "└──────────────────────────────────────┴─────────────────────────────┴─────────────────┘\n",
              "</pre>\n"
            ]
          },
          "metadata": {}
        },
        {
          "output_type": "display_data",
          "data": {
            "text/plain": [
              "\u001b[1m Total params: \u001b[0m\u001b[38;5;34m60,005\u001b[0m (234.40 KB)\n"
            ],
            "text/html": [
              "<pre style=\"white-space:pre;overflow-x:auto;line-height:normal;font-family:Menlo,'DejaVu Sans Mono',consolas,'Courier New',monospace\"><span style=\"font-weight: bold\"> Total params: </span><span style=\"color: #00af00; text-decoration-color: #00af00\">60,005</span> (234.40 KB)\n",
              "</pre>\n"
            ]
          },
          "metadata": {}
        },
        {
          "output_type": "display_data",
          "data": {
            "text/plain": [
              "\u001b[1m Trainable params: \u001b[0m\u001b[38;5;34m20,001\u001b[0m (78.13 KB)\n"
            ],
            "text/html": [
              "<pre style=\"white-space:pre;overflow-x:auto;line-height:normal;font-family:Menlo,'DejaVu Sans Mono',consolas,'Courier New',monospace\"><span style=\"font-weight: bold\"> Trainable params: </span><span style=\"color: #00af00; text-decoration-color: #00af00\">20,001</span> (78.13 KB)\n",
              "</pre>\n"
            ]
          },
          "metadata": {}
        },
        {
          "output_type": "display_data",
          "data": {
            "text/plain": [
              "\u001b[1m Non-trainable params: \u001b[0m\u001b[38;5;34m0\u001b[0m (0.00 B)\n"
            ],
            "text/html": [
              "<pre style=\"white-space:pre;overflow-x:auto;line-height:normal;font-family:Menlo,'DejaVu Sans Mono',consolas,'Courier New',monospace\"><span style=\"font-weight: bold\"> Non-trainable params: </span><span style=\"color: #00af00; text-decoration-color: #00af00\">0</span> (0.00 B)\n",
              "</pre>\n"
            ]
          },
          "metadata": {}
        },
        {
          "output_type": "display_data",
          "data": {
            "text/plain": [
              "\u001b[1m Optimizer params: \u001b[0m\u001b[38;5;34m40,004\u001b[0m (156.27 KB)\n"
            ],
            "text/html": [
              "<pre style=\"white-space:pre;overflow-x:auto;line-height:normal;font-family:Menlo,'DejaVu Sans Mono',consolas,'Courier New',monospace\"><span style=\"font-weight: bold\"> Optimizer params: </span><span style=\"color: #00af00; text-decoration-color: #00af00\">40,004</span> (156.27 KB)\n",
              "</pre>\n"
            ]
          },
          "metadata": {}
        },
        {
          "output_type": "display_data",
          "data": {
            "text/plain": [
              "<Figure size 640x480 with 1 Axes>"
            ],
            "image/png": "[encoded data removed]"
          },
          "metadata": {}
        }
      ],
      "source": [
        "model1 = build_onehot_model()\n",
        "\n",
        "# Fit the model.\n",
        "history1 = model1.fit(\n",
        "  x = X_train_one_hot,  # one-hot training data\n",
        "  y = Y_train,          # corresponding binary labels\n",
        "  epochs=5,             # number of passes through the training data\n",
        "  batch_size=64,        # mini-batch size\n",
        "  validation_split=0.1, # use a fraction of the examples for validation\n",
        "  verbose=1             # display some progress output during training\n",
        "  )\n",
        "\n",
        "model1.summary()\n",
        "# Convert the return value into a DataFrame so we can see the train loss\n",
        "# and binary accuracy after every epoch.\n",
        "history1 = pd.DataFrame(history1.history)\n",
        "plot_history(history1)"
      ]
    },
    {
      "cell_type": "markdown",
      "metadata": {
        "id": "5_H5dfCH6aEm"
      },
      "source": [
        "### <span style=\"color:chocolate\">Exercise 6:</span>  Comparing logistic regression models (20 points)"
      ]
    },
    {
      "cell_type": "markdown",
      "metadata": {
        "id": "QuCh9aQPv7F_"
      },
      "source": [
        "Train the one-hot model using both the concatenating and the averaging strategies and compare the results. Let's call these *LR-C* (Logistic Regression Concatenating) and *LR-A* (Logistic Regression Averaging). Then answer the following questions:\n",
        "\n",
        "1. What are the final training and validation accuracies for LR-C and LR-A?\n",
        "2. How many parameters are there in each model?\n",
        "3. Would you say that either model is overfitting? Why or why not?\n",
        "4. Briefly describe how LR-C differs from LR-A. How do you explain the relationship between their respective validation accuracy results?"
      ]
    },
    {
      "cell_type": "markdown",
      "metadata": {
        "id": "CEAN5BejHc__"
      },
      "source": [
        "*Written answer:*\n",
        "\n",
        "1. LR-A values:\n",
        "\n",
        "  train_accuracy: 0.7169 - train_loss: 0.5898 - val_accuracy: 0.7108 - val_loss: 0.5863\n",
        "\n",
        "  LR-C Values:\n",
        "\n",
        "  train_accuracy: 0.8098 - train_loss: 0.5446 - val_accuracy: 0.6824 - val_loss: 0.6100\n",
        "\n",
        "2. 20,000 parameters and 1 bias in the concatenated model.\n",
        "\n",
        "  2,000 parameters in the averaged model.\n",
        "\n",
        "3. Without using testing the model on test data, there's no sure way of telling, however, the concatenated model shows the training loss deviate below the validation loss, indicating possible overfitting on the training dataset.\n",
        "\n",
        "4. The LR-A model significantly reduces the dimensionality of the data through global averaging of the first dimensional layer, and can prevent overfitting by creating a summary of the input sequence.\n",
        "\n",
        "  The LR-C mode flattens the dataset but keeps all the information of the reviews by valuing each token. This can cause some overfitting of the model as it leads to many more parameters and thus a lower validation accuracy.\n"
      ]
    },
    {
      "cell_type": "markdown",
      "metadata": {
        "id": "n2ZZqwZ-6aEm"
      },
      "source": [
        "### <span style=\"color:chocolate\">Improvement over baseline:</span> Logistic regression with embeddings"
      ]
    },
    {
      "cell_type": "markdown",
      "metadata": {
        "id": "sJIBRqK7lsjG"
      },
      "source": [
        "Next, you will train a model that replaces one-hot representations of each token with learned embeddings.\n",
        "\n",
        "The code below uses a Keras Embedding layer, which expects to receive a sparse (rather than one-hot) representation. That is, it expects a (padded) sequence of token ids; for each id, it looks up the corresponding embedding vector."
      ]
    },
    {
      "cell_type": "code",
      "execution_count": 33,
      "metadata": {
        "id": "ho6uOeCaBs2e"
      },
      "outputs": [],
      "source": [
        "def build_embeddings_model(average_over_positions=False,\n",
        "                           vocab_size=1000,\n",
        "                           sequence_length=20,\n",
        "                           embedding_dim=2):\n",
        "  \"\"\"Build a tf.keras model using embeddings.\"\"\"\n",
        "  # Clear session and remove randomness.\n",
        "  tf.keras.backend.clear_session()\n",
        "  tf.random.set_seed(0)\n",
        "\n",
        "  model = tf.keras.Sequential()\n",
        "  model.add(tf.keras.layers.Embedding(\n",
        "      input_dim=vocab_size,\n",
        "      output_dim=embedding_dim,\n",
        "      input_length=sequence_length)\n",
        "  )\n",
        "\n",
        "  if average_over_positions:\n",
        "    # This layer averages over the first dimension of the input by default.\n",
        "    model.add(tf.keras.layers.GlobalAveragePooling1D())\n",
        "  else:\n",
        "    # Concatenate.\n",
        "    model.add(tf.keras.layers.Flatten())\n",
        "\n",
        "  model.add(tf.keras.layers.Dense(\n",
        "      units=1,                     # output dim (for binary classification)\n",
        "      activation='sigmoid'         # apply the sigmoid function!\n",
        "  ))\n",
        "\n",
        "  model.compile(loss='binary_crossentropy',\n",
        "                optimizer='adam',\n",
        "                metrics=['accuracy'])\n",
        "\n",
        "  return model"
      ]
    },
    {
      "cell_type": "markdown",
      "metadata": {
        "id": "eyhoEjAiFSNB"
      },
      "source": [
        "You will train this model, this time using the averaging strategy instead of the concatenating strategy for handling the token sequence. You'll look up the embedding vectors for each token and average them to produce a single vector. Then, you'll use this averaged vector to train a logistic regression model to predict the binary label."
      ]
    },
    {
      "cell_type": "code",
      "execution_count": 39,
      "metadata": {
        "colab": {
          "base_uri": "https://localhost:8080/",
          "height": 886
        },
        "id": "uYUE5UwkxoU8",
        "outputId": "fa37316f-6889-4cc0-b33e-4c7f3e947973"
      },
      "outputs": [
        {
          "output_type": "stream",
          "name": "stdout",
          "text": [
            "Epoch 1/5\n",
            "\u001b[1m352/352\u001b[0m \u001b[32m━━━━━━━━━━━━━━━━━━━━\u001b[0m\u001b[37m\u001b[0m \u001b[1m2s\u001b[0m 3ms/step - accuracy: 0.6132 - loss: 0.6678 - val_accuracy: 0.7120 - val_loss: 0.5792\n",
            "Epoch 2/5\n",
            "\u001b[1m352/352\u001b[0m \u001b[32m━━━━━━━━━━━━━━━━━━━━\u001b[0m\u001b[37m\u001b[0m \u001b[1m1s\u001b[0m 2ms/step - accuracy: 0.7281 - loss: 0.5514 - val_accuracy: 0.7208 - val_loss: 0.5424\n",
            "Epoch 3/5\n",
            "\u001b[1m352/352\u001b[0m \u001b[32m━━━━━━━━━━━━━━━━━━━━\u001b[0m\u001b[37m\u001b[0m \u001b[1m1s\u001b[0m 2ms/step - accuracy: 0.7480 - loss: 0.5142 - val_accuracy: 0.7312 - val_loss: 0.5359\n",
            "Epoch 4/5\n",
            "\u001b[1m352/352\u001b[0m \u001b[32m━━━━━━━━━━━━━━━━━━━━\u001b[0m\u001b[37m\u001b[0m \u001b[1m1s\u001b[0m 2ms/step - accuracy: 0.7535 - loss: 0.5024 - val_accuracy: 0.7312 - val_loss: 0.5354\n",
            "Epoch 5/5\n",
            "\u001b[1m352/352\u001b[0m \u001b[32m━━━━━━━━━━━━━━━━━━━━\u001b[0m\u001b[37m\u001b[0m \u001b[1m1s\u001b[0m 4ms/step - accuracy: 0.7573 - loss: 0.4974 - val_accuracy: 0.7304 - val_loss: 0.5364\n"
          ]
        },
        {
          "output_type": "display_data",
          "data": {
            "text/plain": [
              "\u001b[1mModel: \"sequential\"\u001b[0m\n"
            ],
            "text/html": [
              "<pre style=\"white-space:pre;overflow-x:auto;line-height:normal;font-family:Menlo,'DejaVu Sans Mono',consolas,'Courier New',monospace\"><span style=\"font-weight: bold\">Model: \"sequential\"</span>\n",
              "</pre>\n"
            ]
          },
          "metadata": {}
        },
        {
          "output_type": "display_data",
          "data": {
            "text/plain": [
              "┏━━━━━━━━━━━━━━━━━━━━━━━━━━━━━━━━━━━━━━┳━━━━━━━━━━━━━━━━━━━━━━━━━━━━━┳━━━━━━━━━━━━━━━━━┓\n",
              "┃\u001b[1m \u001b[0m\u001b[1mLayer (type)                        \u001b[0m\u001b[1m \u001b[0m┃\u001b[1m \u001b[0m\u001b[1mOutput Shape               \u001b[0m\u001b[1m \u001b[0m┃\u001b[1m \u001b[0m\u001b[1m        Param #\u001b[0m\u001b[1m \u001b[0m┃\n",
              "┡━━━━━━━━━━━━━━━━━━━━━━━━━━━━━━━━━━━━━━╇━━━━━━━━━━━━━━━━━━━━━━━━━━━━━╇━━━━━━━━━━━━━━━━━┩\n",
              "│ embedding (\u001b[38;5;33mEmbedding\u001b[0m)                │ (\u001b[38;5;45mNone\u001b[0m, \u001b[38;5;34m20\u001b[0m, \u001b[38;5;34m64\u001b[0m)              │          \u001b[38;5;34m64,000\u001b[0m │\n",
              "├──────────────────────────────────────┼─────────────────────────────┼─────────────────┤\n",
              "│ global_average_pooling1d             │ (\u001b[38;5;45mNone\u001b[0m, \u001b[38;5;34m64\u001b[0m)                  │               \u001b[38;5;34m0\u001b[0m │\n",
              "│ (\u001b[38;5;33mGlobalAveragePooling1D\u001b[0m)             │                             │                 │\n",
              "├──────────────────────────────────────┼─────────────────────────────┼─────────────────┤\n",
              "│ dense (\u001b[38;5;33mDense\u001b[0m)                        │ (\u001b[38;5;45mNone\u001b[0m, \u001b[38;5;34m1\u001b[0m)                   │              \u001b[38;5;34m65\u001b[0m │\n",
              "└──────────────────────────────────────┴─────────────────────────────┴─────────────────┘\n"
            ],
            "text/html": [
              "<pre style=\"white-space:pre;overflow-x:auto;line-height:normal;font-family:Menlo,'DejaVu Sans Mono',consolas,'Courier New',monospace\">┏━━━━━━━━━━━━━━━━━━━━━━━━━━━━━━━━━━━━━━┳━━━━━━━━━━━━━━━━━━━━━━━━━━━━━┳━━━━━━━━━━━━━━━━━┓\n",
              "┃<span style=\"font-weight: bold\"> Layer (type)                         </span>┃<span style=\"font-weight: bold\"> Output Shape                </span>┃<span style=\"font-weight: bold\">         Param # </span>┃\n",
              "┡━━━━━━━━━━━━━━━━━━━━━━━━━━━━━━━━━━━━━━╇━━━━━━━━━━━━━━━━━━━━━━━━━━━━━╇━━━━━━━━━━━━━━━━━┩\n",
              "│ embedding (<span style=\"color: #0087ff; text-decoration-color: #0087ff\">Embedding</span>)                │ (<span style=\"color: #00d7ff; text-decoration-color: #00d7ff\">None</span>, <span style=\"color: #00af00; text-decoration-color: #00af00\">20</span>, <span style=\"color: #00af00; text-decoration-color: #00af00\">64</span>)              │          <span style=\"color: #00af00; text-decoration-color: #00af00\">64,000</span> │\n",
              "├──────────────────────────────────────┼─────────────────────────────┼─────────────────┤\n",
              "│ global_average_pooling1d             │ (<span style=\"color: #00d7ff; text-decoration-color: #00d7ff\">None</span>, <span style=\"color: #00af00; text-decoration-color: #00af00\">64</span>)                  │               <span style=\"color: #00af00; text-decoration-color: #00af00\">0</span> │\n",
              "│ (<span style=\"color: #0087ff; text-decoration-color: #0087ff\">GlobalAveragePooling1D</span>)             │                             │                 │\n",
              "├──────────────────────────────────────┼─────────────────────────────┼─────────────────┤\n",
              "│ dense (<span style=\"color: #0087ff; text-decoration-color: #0087ff\">Dense</span>)                        │ (<span style=\"color: #00d7ff; text-decoration-color: #00d7ff\">None</span>, <span style=\"color: #00af00; text-decoration-color: #00af00\">1</span>)                   │              <span style=\"color: #00af00; text-decoration-color: #00af00\">65</span> │\n",
              "└──────────────────────────────────────┴─────────────────────────────┴─────────────────┘\n",
              "</pre>\n"
            ]
          },
          "metadata": {}
        },
        {
          "output_type": "display_data",
          "data": {
            "text/plain": [
              "\u001b[1m Total params: \u001b[0m\u001b[38;5;34m192,197\u001b[0m (750.77 KB)\n"
            ],
            "text/html": [
              "<pre style=\"white-space:pre;overflow-x:auto;line-height:normal;font-family:Menlo,'DejaVu Sans Mono',consolas,'Courier New',monospace\"><span style=\"font-weight: bold\"> Total params: </span><span style=\"color: #00af00; text-decoration-color: #00af00\">192,197</span> (750.77 KB)\n",
              "</pre>\n"
            ]
          },
          "metadata": {}
        },
        {
          "output_type": "display_data",
          "data": {
            "text/plain": [
              "\u001b[1m Trainable params: \u001b[0m\u001b[38;5;34m64,065\u001b[0m (250.25 KB)\n"
            ],
            "text/html": [
              "<pre style=\"white-space:pre;overflow-x:auto;line-height:normal;font-family:Menlo,'DejaVu Sans Mono',consolas,'Courier New',monospace\"><span style=\"font-weight: bold\"> Trainable params: </span><span style=\"color: #00af00; text-decoration-color: #00af00\">64,065</span> (250.25 KB)\n",
              "</pre>\n"
            ]
          },
          "metadata": {}
        },
        {
          "output_type": "display_data",
          "data": {
            "text/plain": [
              "\u001b[1m Non-trainable params: \u001b[0m\u001b[38;5;34m0\u001b[0m (0.00 B)\n"
            ],
            "text/html": [
              "<pre style=\"white-space:pre;overflow-x:auto;line-height:normal;font-family:Menlo,'DejaVu Sans Mono',consolas,'Courier New',monospace\"><span style=\"font-weight: bold\"> Non-trainable params: </span><span style=\"color: #00af00; text-decoration-color: #00af00\">0</span> (0.00 B)\n",
              "</pre>\n"
            ]
          },
          "metadata": {}
        },
        {
          "output_type": "display_data",
          "data": {
            "text/plain": [
              "\u001b[1m Optimizer params: \u001b[0m\u001b[38;5;34m128,132\u001b[0m (500.52 KB)\n"
            ],
            "text/html": [
              "<pre style=\"white-space:pre;overflow-x:auto;line-height:normal;font-family:Menlo,'DejaVu Sans Mono',consolas,'Courier New',monospace\"><span style=\"font-weight: bold\"> Optimizer params: </span><span style=\"color: #00af00; text-decoration-color: #00af00\">128,132</span> (500.52 KB)\n",
              "</pre>\n"
            ]
          },
          "metadata": {}
        },
        {
          "output_type": "display_data",
          "data": {
            "text/plain": [
              "<Figure size 640x480 with 1 Axes>"
            ],
            "image/png": "[encoded data removed]"
          },
          "metadata": {}
        }
      ],
      "source": [
        "model2 = build_embeddings_model(average_over_positions=True,\n",
        "                               vocab_size=1000,\n",
        "                               sequence_length=20,\n",
        "                               embedding_dim=64)\n",
        "history2 = model2.fit(\n",
        "  x = X_train_reduced,  # our sparse padded training data\n",
        "  y = Y_train,          # corresponding binary labels\n",
        "  epochs=5,             # number of passes through the training data\n",
        "  batch_size=64,        # mini-batch size\n",
        "  validation_split=0.1, # use a fraction of the examples for validation\n",
        "  verbose=1             # display some progress output during training\n",
        "  )\n",
        "\n",
        "model2.summary()\n",
        "\n",
        "history2 = pd.DataFrame(history2.history)\n",
        "plot_history(history2)"
      ]
    },
    {
      "cell_type": "markdown",
      "metadata": {
        "id": "LFzR6wYv6aEn"
      },
      "source": [
        "### <span style=\"color:chocolate\">Exercise 7:</span> Embedding size tuning (20 points)"
      ]
    },
    {
      "cell_type": "markdown",
      "metadata": {
        "id": "V3k__61hFnag"
      },
      "source": [
        "Experiment with embedding sizes {2, 4, 8, 16, 32, 64}, while keeping other settings fixed and using the averaging strategy instead of the concatenating strategy. Then:\n",
        "\n",
        "1. Construct a table showing the training and validation accuracies for each model after 5 training epochs;\n",
        "2. Calculate the number of parameters in each model;\n",
        "3. Analyze whether learned embeddings improve performance compared to one-hot encoding, and explain why this might be the case."
      ]
    },
    {
      "cell_type": "markdown",
      "source": [
        "Embedding Sizes | Training Accuracy | Validation Accuracy | Model Type | Parameters\n",
        "-|-|-|-|-|\n",
        "2 | 0.7169 | 0.7108 | Averaged | 2,000\n",
        "4 | 0.7270 | 0.7208 | Averaged | 4,000\n",
        "8 | 0.7410 | 0.7228 | Averaged | 8,000\n",
        "16 | 0.7504 | 0.7292 | Averaged | 16,000\n",
        "32 | 0.7548 | 0.7300 | Averaged | 32,000\n",
        "64 | 0.7573 | 0.7304 | Averaged | 64,000\n"
      ],
      "metadata": {
        "id": "QjZZP8b6nk0N"
      }
    },
    {
      "cell_type": "markdown",
      "metadata": {
        "id": "O7t46ZdX2ofd"
      },
      "source": [
        "*Written answer:*\n",
        "\n",
        "1. See table above\n",
        "\n",
        "2. See table above\n",
        "\n",
        "3. One-hot encoding shows improved performance with the training accuracy, however we see greater validation accuracy gains with the embeddedings implemented, although the gains do plateau.\n"
      ]
    },
    {
      "cell_type": "markdown",
      "metadata": {
        "id": "u56ILLid6aEn"
      },
      "source": [
        "---"
      ]
    },
    {
      "cell_type": "markdown",
      "metadata": {
        "id": "i2dWOuxqKHA6"
      },
      "source": [
        "### Inspecting Learned Embeddings\n",
        "You will now retrieve the learned embedding parameters from the trained model2 and plot the token embeddings.\n",
        "\n",
        "The model layers in a Keras Sequential model are stored as a list and the embeddings are the first layer. You can use the <span style=\"color:chocolate\">get_weights()</span> function to get a numpy array with the parameters."
      ]
    },
    {
      "cell_type": "code",
      "execution_count": 40,
      "metadata": {
        "colab": {
          "base_uri": "https://localhost:8080/",
          "height": 90
        },
        "id": "bfsbGSwkaFjo",
        "outputId": "530798b7-7e83-4483-e332-67a39110da01"
      },
      "outputs": [
        {
          "output_type": "display_data",
          "data": {
            "text/plain": [
              "[<Embedding name=embedding, built=True>,\n",
              " <GlobalAveragePooling1D name=global_average_pooling1d, built=True>,\n",
              " <Dense name=dense, built=True>]"
            ]
          },
          "metadata": {}
        },
        {
          "output_type": "display_data",
          "data": {
            "text/plain": [
              "(1000, 64)"
            ]
          },
          "metadata": {}
        }
      ],
      "source": [
        "# Display the model layers.\n",
        "display(model2.layers)\n",
        "\n",
        "# Retrieve the embeddings layer, which itself is wrapped in a list.\n",
        "embeddings2 = model2.layers[0].get_weights()[0]\n",
        "display(embeddings2.shape)"
      ]
    },
    {
      "cell_type": "markdown",
      "metadata": {
        "id": "apPWscNwcXTE"
      },
      "source": [
        "Now you'll use a fancy plotting tool called *plotly* to show the embeddings with hovertext so you can move your mouse over the points to see the corresponding tokens."
      ]
    },
    {
      "cell_type": "code",
      "execution_count": 41,
      "metadata": {
        "colab": {
          "base_uri": "https://localhost:8080/",
          "height": 542
        },
        "id": "5RZMTrA0KttL",
        "outputId": "2f8ffd15-1ac7-429c-eeca-9f980c0a2cca"
      },
      "outputs": [
        {
          "output_type": "display_data",
          "data": {
            "text/html": [
              "<html>\n",
              "<head><meta charset=\"utf-8\" /></head>\n",
              "<body>\n",
              "    <div>            <script src=\"https://cdnjs.cloudflare.com/ajax/libs/mathjax/2.7.5/MathJax.js?config=TeX-AMS-MML_SVG\"></script><script type=\"text/javascript\">if (window.MathJax && window.MathJax.Hub && window.MathJax.Hub.Config) {window.MathJax.Hub.Config({SVG: {font: \"STIX-Web\"}});}</script>                <script type=\"text/javascript\">window.PlotlyConfig = {MathJaxConfig: 'local'};</script>\n",
              "        <script charset=\"utf-8\" src=\"https://cdn.plot.ly/plotly-2.35.2.min.js\"></script>                <div id=\"43d6d6dc-fae2-426c-9de8-a4fefec0a9b6\" class=\"plotly-graph-div\" style=\"height:525px; width:100%;\"></div>            <script type=\"text/javascript\">                                    window.PLOTLYENV=window.PLOTLYENV || {};                                    if (document.getElementById(\"43d6d6dc-fae2-426c-9de8-a4fefec0a9b6\")) {                    Plotly.newPlot(                        \"43d6d6dc-fae2-426c-9de8-a4fefec0a9b6\",                        [{\"hoverinfo\":\"text\",\"mode\":\"markers\",\"text\":[\"game\",\"past\",\"able\",\"b\",\"days\",\"turns\",\"child\",\"they're\",\"hand\",\"flick\",\"enjoyed\",\"act\",\"genre\",\"town\",\"favorite\",\"soon\",\"kill\",\"starts\",\"sometimes\",\"car\",\"gave\",\"run\",\"late\",\"eyes\",\"actress\",\"etc\",\"directed\",\"horrible\",\"won't\",\"viewer\",\"brilliant\",\"parts\",\"self\",\"themselves\",\"hour\",\"expect\",\"thinking\",\"stories\",\"stuff\",\"girls\",\"obviously\",\"blood\",\"decent\",\"city\",\"voice\",\"highly\",\"myself\",\"feeling\",\"fight\",\"except\",\"slow\",\"matter\",\"type\",\"anyway\",\"kid\",\"roles\",\"killed\",\"heard\",\"god\",\"age\",\"says\",\"moment\",\"took\",\"leave\",\"writer\",\"strong\",\"cannot\",\"violence\",\"police\",\"hit\",\"stop\",\"happens\",\"particularly\",\"known\",\"involved\",\"happened\",\"extremely\",\"daughter\",\"obvious\",\"told\",\"chance\",\"living\",\"coming\",\"lack\",\"alone\",\"experience\",\"wouldn't\",\"including\",\"murder\",\"attempt\",\"s\",\"please\",\"james\",\"happen\",\"wonder\",\"crap\",\"ago\",\"brother\",\"film's\",\"gore\",\"none\",\"complete\",\"interest\",\"score\",\"group\",\"cut\",\"simple\",\"save\",\"ok\",\"hell\",\"looked\",\"career\",\"number\",\"song\",\"possible\",\"seriously\",\"annoying\",\"shown\",\"exactly\",\"sad\",\"running\",\"musical\",\"serious\",\"taken\",\"yourself\",\"whose\",\"released\",\"cinematography\",\"david\",\"scary\",\"ends\",\"english\",\"hero\",\"usually\",\"hours\",\"reality\",\"opening\",\"i'll\",\"across\",\"today\",\"jokes\",\"light\",\"hilarious\",\"somewhat\",\"usual\",\"started\",\"cool\",\"ridiculous\",\"body\",\"relationship\",\"view\",\"level\",\"opinion\",\"change\",\"happy\",\"middle\",\"taking\",\"wish\",\"husband\",\"finds\",\"saying\",\"order\",\"talking\",\"ones\",\"documentary\",\"shots\",\"huge\",\"novel\",\"female\",\"mostly\",\"robert\",\"power\",\"episodes\",\"room\",\"important\",\"rating\",\"talent\",\"five\",\"major\",\"turned\",\"strange\",\"word\",\"modern\",\"call\",\"apparently\",\"disappointed\",\"single\",\"events\",\"due\",\"four\",\"songs\",\"basically\",\"attention\",\"7\",\"knows\",\"clearly\",\"supporting\",\"knew\",\"british\",\"television\",\"comic\",\"non\",\"fast\",\"earth\",\"country\",\"future\",\"cheap\",\"class\",\"thriller\",\"8\",\"silly\",\"king\",\"problems\",\"aren't\",\"easily\",\"words\",\"tells\",\"miss\",\"jack\",\"local\",\"sequence\",\"bring\",\"entertainment\",\"paul\",\"beyond\",\"upon\",\"whether\",\"predictable\",\"moving\",\"similar\",\"straight\",\"romantic\",\"sets\",\"review\",\"falls\",\"oscar\",\"mystery\",\"enjoyable\",\"needs\",\"appears\",\"talk\",\"rock\",\"george\",\"giving\",\"eye\",\"richard\",\"within\",\"ten\",\"animation\",\"message\",\"theater\",\"near\",\"above\",\"dull\",\"nearly\",\"sequel\",\"theme\",\"points\",\"'\",\"stand\",\"mention\",\"lady\",\"bunch\",\"add\",\"feels\",\"herself\",\"release\",\"red\",\"team\",\"storyline\",\"surprised\",\"ways\",\"using\",\"named\",\"haven't\",\"lots\",\"easy\",\"fantastic\",\"begins\",\"actual\",\"working\",\"effort\",\"york\",\"die\",\"hate\",\"french\",\"minute\",\"tale\",\"clear\",\"stay\",\"9\",\"elements\",\"feature\",\"among\",\"follow\",\"comments\",\"re\",\"viewers\",\"avoid\",\"sister\",\"showing\",\"typical\",\"editing\",\"what's\",\"famous\",\"tried\",\"sorry\",\"dialog\",\"check\",\"fall\",\"period\",\"season\",\"form\",\"certain\",\"filmed\",\"weak\",\"soundtrack\",\"means\",\"buy\",\"material\",\"somehow\",\"realistic\",\"figure\",\"crime\",\"doubt\",\"gone\",\"peter\",\"tom\",\"kept\",\"viewing\",\"t\",\"general\",\"leads\",\"greatest\",\"space\",\"lame\",\"suspense\",\"dance\",\"imagine\",\"brought\",\"third\",\"atmosphere\",\"hear\",\"particular\",\"sequences\",\"whatever\",\"parents\",\"move\",\"lee\",\"indeed\",\"learn\",\"rent\",\"de\",\"eventually\",\"note\",\"deal\",\"average\",\"reviews\",\"wait\",\"forget\",\"japanese\",\"sexual\",\"poorly\",\"premise\",\"okay\",\"zombie\",\"surprise\",\"believable\",\"stage\",\"possibly\",\"sit\",\"who's\",\"decided\",\"expected\",\"you've\",\"subject\",\"nature\",\"became\",\"difficult\",\"free\",\"killing\",\"screenplay\",\"truth\",\"romance\",\"dr\",\"nor\",\"reading\",\"needed\",\"question\",\"leaves\",\"street\",\"20\",\"meets\",\"hot\",\"unless\",\"begin\",\"baby\",\"superb\",\"credits\",\"imdb\",\"otherwise\",\"write\",\"shame\",\"let's\",\"situation\",\"dramatic\",\"memorable\",\"directors\",\"earlier\",\"meet\",\"disney\",\"open\",\"dog\",\"badly\",\"joe\",\"male\",\"weird\",\"acted\",\"forced\",\"laughs\",\"sci\",\"emotional\",\"older\",\"realize\",\"fi\",\"dream\",\"society\",\"writers\",\"interested\",\"footage\",\"forward\",\"comment\",\"crazy\",\"deep\",\"sounds\",\"plus\",\"beauty\",\"whom\",\"america\",\"fantasy\",\"directing\",\"keeps\",\"ask\",\"development\",\"features\",\"air\",\"quickly\",\"mess\",\"creepy\",\"towards\",\"perfectly\",\"mark\",\"worked\",\"box\",\"cheesy\",\"unique\",\"setting\",\"hands\",\"plenty\",\"result\",\"previous\",\"brings\",\"effect\",\"e\",\"total\",\"personal\",\"incredibly\",\"rate\",\"fire\",\"monster\",\"business\",\"leading\",\"apart\",\"casting\",\"admit\",\"joke\",\"powerful\",\"appear\",\"background\",\"telling\",\"girlfriend\",\"meant\",\"christmas\",\"hardly\",\"present\",\"battle\",\"potential\",\"create\",\"bill\",\"break\",\"pay\",\"masterpiece\",\"gay\",\"political\",\"return\",\"dumb\",\"fails\",\"fighting\",\"various\",\"era\"],\"textposition\":\"bottom left\",\"x\":[-0.12063211,-0.029040296,0.036271363,-0.03577895,-0.022723176,0.001936733,-0.053956956,-0.033599302,0.22393689,0.09717079,-0.2520885,0.06502241,-0.11927617,0.0141653195,-0.38012236,-0.12196984,0.15568605,0.087290004,-0.17097168,0.1287549,0.034071922,0.077878125,-0.029260522,-0.0563778,0.020690942,0.15220912,0.13372163,0.46867296,-0.05737465,-0.014981502,-0.32638028,-0.11889168,0.19227496,0.027119014,-0.041783962,0.063905224,0.08092959,-0.11783537,-0.077742934,-0.007755946,0.06924624,-0.057632584,0.20170453,-0.033103414,-0.02314071,-0.5674576,-0.048479185,-0.037335396,-0.009872388,0.11797113,0.017310044,-0.0839806,-0.062983036,0.043245297,0.060266778,0.05263233,0.096017115,-0.08606004,0.1639756,-0.04952865,-0.010944609,-0.049246423,-0.017165376,0.06271826,0.14096552,-0.17953971,-0.028600516,0.032582887,-0.06497474,-0.33579412,0.019753885,0.24392599,0.0837514,-0.02527891,0.1772562,-0.02727813,0.029572355,-0.004150811,0.19945163,0.031389717,-0.32044417,0.045614872,-0.010654879,0.2713713,0.05158655,-0.1333837,0.32940692,-0.16903412,0.06614356,0.23583877,-0.00823429,-0.035208944,-0.15230434,-0.11036411,0.03407201,0.51302254,-0.09408794,0.007699681,0.13450295,0.24161732,0.21497524,0.022975143,0.117174946,-0.08441788,0.023189055,-0.10297293,-0.064112954,0.514738,0.13888432,0.1682407,0.23629133,0.10591654,-0.08984314,0.026214616,-0.009012717,0.19243714,0.29173625,-0.06703096,-0.08009357,0.18140547,0.069131546,-0.036205612,0.022836188,-0.06419444,0.09869436,-0.012833804,-0.09305801,0.010897501,0.036640566,0.09754058,0.031348117,-0.18440156,-0.09827896,0.017394483,0.06655079,-0.090323955,-0.0371477,0.05388208,-0.06239055,-0.4264968,0.06847095,-0.1616111,-0.13230604,0.02070307,0.0005208237,0.0369906,-0.14440586,0.27586874,0.10998337,-0.18437324,-0.10488581,-0.007727333,0.010543841,-0.12593248,-0.17477293,0.019223334,0.009476981,-0.13342588,0.062490996,-0.097570166,0.12573233,-0.029102897,-0.05591834,0.019597953,-0.06719839,0.14744605,0.12420234,0.04126835,0.055703823,0.0501521,-0.035460655,0.027637543,-0.116824195,0.018439205,-0.104788914,0.071209125,0.09134387,0.028851949,0.07516002,0.17411886,0.022377055,0.07369322,-0.103218816,0.06816916,0.055689014,0.1328114,0.05891712,-0.037964545,0.10071085,0.0426774,0.05406785,0.11097452,-0.10568771,-0.6116174,-0.157004,0.07978829,0.0068109357,0.21038726,0.097872004,-0.059030056,-0.06593517,0.0087930625,0.09421003,-0.02537549,-0.042403344,-0.089901105,0.35254526,0.0031485022,-0.18401162,-0.58378345,0.08059708,0.07974778,0.060523447,0.06582487,-0.1326703,-0.100831926,-0.19723256,-0.16738755,-0.15849096,0.12520206,-0.1472939,-0.14601912,-0.059243407,-0.098388426,0.006264895,0.0030225385,-0.14349161,0.21091308,-0.20641653,-0.023748854,0.09924339,-0.1669798,-0.029201925,0.016674891,0.13102862,-0.2533544,-0.040847782,-0.31861743,0.08869436,0.098401316,-0.022309383,-0.13589214,0.086355634,0.005023666,0.03046088,-0.04247981,-0.123659916,-0.008692552,-0.05233664,-0.12219201,0.17494538,0.089483865,0.057074707,0.3993472,-0.10838686,-0.0044683986,0.0030334815,0.06878003,0.08918621,-0.006692718,0.022206228,-0.14818822,-0.10332352,-0.015287073,-0.014439621,-0.19122884,-0.1534806,0.14970021,-0.098802775,0.012394592,-0.087482095,-0.08843608,0.08929794,0.19484098,-0.17412014,-0.051919494,-0.07143331,-0.22596097,-0.0027295032,0.21061802,0.057038616,0.289831,0.06864612,0.09694356,0.08377912,-0.00097474747,0.098288454,-0.22816558,0.08985589,0.16968009,-0.5110163,-0.12761052,0.017775383,-0.10519464,0.015834078,-0.021722626,0.013979093,0.04258595,0.7616826,0.028454816,-0.041559607,-0.0986798,0.0076429574,-0.07175804,-0.19065028,0.0026180642,0.32291055,0.032085177,-0.23936085,-0.06273194,-0.05088435,-0.11958177,0.035160065,-0.105422236,0.028326463,0.31394282,-0.20198894,-0.046510663,-0.08704817,0.05897031,-0.062246174,-0.2400698,0.061822552,-0.085141145,-0.060759064,-0.032232814,-0.036316622,-0.12403288,0.049884886,-0.24547441,0.15267025,0.08639712,0.02162752,-0.23934402,0.067669496,0.3475146,-0.024925655,-0.22519954,-0.028029501,-0.043210972,0.021834072,-0.2760696,-0.06525302,-0.08687261,-0.12672672,0.06447486,0.03539244,0.14542052,0.2383141,0.05075913,-0.061533,0.12040081,-0.023367478,-0.016482426,0.08261823,-0.14586787,-0.023550667,0.05224067,0.017325142,-0.014310027,-0.1240633,0.0627081,0.4207577,0.23030822,0.30819255,0.08147513,-0.07312885,-0.16150177,-0.051516373,-0.011683285,0.028272053,-0.09785716,0.11850467,0.10305524,-0.041241787,0.10890921,-0.21422237,0.044743855,-0.19571409,0.17956202,0.14828345,-0.019879682,-0.007730171,-0.060083643,0.037234813,0.02832908,-0.15587181,-0.15832937,-0.12261195,-0.056906573,-0.058130275,0.07253311,-0.015129633,0.15260231,0.52501357,0.0035601547,0.030292356,-0.36580446,0.1404301,0.055883277,0.18390308,0.25277188,0.1416022,0.08104129,-0.1977629,-0.13238443,-0.11106378,0.11092135,-0.03477098,0.15339965,-0.10585959,-0.12431485,0.106763065,0.28085494,0.26260906,0.11347843,-0.11221476,0.06826416,0.06827007,0.0715162,0.013130324,-0.09344958,0.013635819,0.23440488,-0.026834125,-0.09108294,-0.114163026,0.15643524,-0.10990556,-0.0043574194,-0.09125371,0.03926672,0.005002286,-0.13672483,0.07146077,0.050297733,-0.17440194,-0.042965174,-0.19003883,-0.102402374,-0.0168872,-0.10875599,-0.0112782875,0.06396356,-0.024839899,-0.17984504,0.022822093,0.52616984,-0.070200816,0.04166347,-0.296872,0.09077997,0.11490178,-0.09323481,0.06510187,-0.14860304,0.071131855,0.07424363,0.0089728255,0.2520618,0.066288866,-0.17636544,-0.00007956926,0.14609309,0.12568805,-0.08078843,-0.0034123112,-0.04071891,-0.076090634,0.113960914,0.0010983729,-0.1029348,0.077196464,0.11276331,-0.05216321,0.3027196,-0.3066848,0.04516716,-0.012001218,-0.057707552,-0.06845344,0.11880318,0.07895221,0.15350401,-0.09590664,0.015232865,0.20295827,-0.0022653458,-0.05429237,0.16751228,0.26605862,-0.19110423,0.18663575,-0.041160643,0.077885926,0.21880664,0.35182115,-0.10634565,-0.005876446,-0.23737392],\"y\":[0.11373883,0.039935283,0.0014180734,-0.010555302,0.10231345,0.026365202,0.06777234,0.026984839,-0.25845245,-0.0803963,0.26941827,-0.09699654,0.156257,0.03417144,0.36176884,0.106201515,-0.1184733,-0.10990685,0.18786591,-0.17402102,0.0003874146,-0.08263544,-0.018902574,0.03674499,0.009379826,-0.1770681,-0.04326909,-0.50114995,0.13326065,0.046627413,0.30490366,0.07072867,-0.16855109,-0.023118222,0.049559623,-0.09624732,-0.055520456,0.1637473,0.08589086,0.018351512,-0.066521585,0.090189375,-0.2220963,0.086376205,0.0659308,0.588639,-0.01758559,0.061608016,0.010803222,-0.16703661,-0.062714845,0.09564638,-0.002925406,-0.033778228,-0.14981477,0.012655376,-0.09378348,0.08958938,-0.18383145,0.0967165,-0.022679187,0.01248021,-0.01207076,-0.06126733,-0.09233131,0.23246993,-0.036139533,-0.00514775,0.07856774,0.34161538,-0.041951165,-0.22677836,-0.08453087,0.06532101,-0.16089992,0.024569033,0.02773301,-0.022420265,-0.1886719,-0.053338595,0.29333398,-0.04995288,0.0028720554,-0.27627102,0.018568896,0.10860545,-0.40151596,0.24096978,-0.07396119,-0.24660148,0.045321405,-0.04139546,0.16554812,0.101587385,-0.07118423,-0.4667401,0.074962504,0.014871925,-0.09168798,-0.25824252,-0.23917447,-0.10305264,-0.083752334,0.054781295,-0.022329569,0.1557948,0.07488651,-0.517502,-0.17313275,-0.09741936,-0.26092362,-0.089349754,0.044705532,-0.019834958,0.08105944,-0.20549297,-0.28863734,0.065105304,0.053123184,-0.21345933,-0.024611406,0.027561633,-0.0020808536,-0.010060932,-0.1176211,0.03855504,0.1350783,-0.08852793,-0.10718758,-0.14558308,0.051859327,0.22420664,0.072300635,-0.033038322,-0.031216789,0.11174604,0.03483188,-0.08366916,0.013063762,0.44503605,-0.085595876,0.12927745,0.06967574,-0.004359248,-0.0072277505,-0.054629743,0.21691798,-0.2561297,-0.1610434,0.16391037,0.09842714,-0.021085352,-0.011899795,0.16232356,0.13585389,0.03111154,-0.05142781,0.045688257,-0.117928475,0.035778787,-0.089311,-0.017156411,0.08401662,-0.042636875,0.06408994,-0.1489725,-0.18729007,-0.0638261,-0.043116733,-0.08528322,0.054092053,-0.014395209,0.11196934,-0.0936743,0.10633101,-0.116061784,-0.1275316,-0.08008721,-0.08372247,-0.18576628,-0.023568366,-0.13410674,0.13431099,-0.120693766,-0.08703616,-0.059122633,-0.021979025,0.02782796,-0.04973389,0.019393865,-0.031192767,-0.13068026,0.1210462,0.68582505,0.10276028,-0.089305565,-0.041745562,-0.20066638,-0.059965637,0.07571363,0.056673113,-0.10239705,-0.08398762,-0.00030839766,0.06926284,0.10207968,-0.34482977,0.016153537,0.15581752,0.62021685,-0.10558655,-0.030320706,-0.09201037,-0.14032766,0.08016366,0.07554207,0.13336363,0.22791727,0.09685707,-0.11360473,0.21029225,0.188298,-0.002710814,0.08253668,0.045548823,-0.044774316,0.11332327,-0.24478401,0.19513667,0.036893863,-0.038725764,0.14012644,-0.019118786,-0.0059991493,-0.1703633,0.27303877,-0.0050966274,0.3282803,-0.10704123,-0.14975414,0.10386717,0.13723518,-0.037468456,-0.051224068,-0.000563399,0.09442855,0.04364362,0.02542732,-0.018913213,0.16410074,-0.15687984,-0.068172224,0.028038107,-0.4116237,0.08848875,0.0032242318,-0.026672808,-0.050656643,-0.06934392,0.038754113,0.028199397,0.16804174,0.1125745,0.030505164,0.017488182,0.20982304,0.0997122,-0.122960955,0.07181273,0.036568813,0.02101936,0.10895475,-0.13265596,-0.20150074,0.11384684,0.041287977,0.055735625,0.26317057,0.044794817,-0.17228918,-0.06254203,-0.30343968,-0.064563096,-0.09718498,-0.0694011,-0.02838282,-0.13542439,0.3143076,-0.085297026,-0.1377564,0.5318962,0.14961039,-0.024569616,0.05233439,0.00066165894,0.052998856,-0.031327825,0.02316416,-0.7582361,-0.12254296,0.056116585,0.12206967,-0.05570158,0.05891986,0.12385458,-0.034390848,-0.3546342,-0.023508608,0.23926908,0.071200825,0.048386253,0.11791704,0.006750464,0.1074449,-0.04323161,-0.25816533,0.11119645,0.06337652,0.1475439,-0.07712476,0.018291846,0.308283,-0.049633,0.08808034,0.10802683,0.06851252,0.03334885,0.17169367,0.0027319512,0.21719751,-0.18746251,-0.13265833,0.023973746,0.30663913,-0.025815021,-0.4464636,0.0296752,0.17090583,0.045337126,0.115120634,0.05214285,0.3038656,0.067710415,0.10228421,0.17404081,-0.038730275,-0.0061482666,-0.14093608,-0.2704194,-0.11905452,0.073490545,-0.19460884,0.027015181,0.018796721,-0.045156177,0.08986643,0.016817706,-0.008369533,-0.029661663,-0.034721777,0.07584685,-0.001219751,-0.37792918,-0.23506616,-0.25631946,-0.13624938,0.05926133,0.17625937,0.027971108,-0.054043718,-0.101725645,0.17013215,-0.15073971,-0.09892978,0.039376605,-0.07915202,0.22140422,-0.040734015,0.24135436,-0.15890813,-0.14886147,0.03532775,-0.029165747,0.13202953,-0.009671066,-0.047644094,0.12264026,0.08521003,0.09493643,0.03635722,0.021608913,-0.025912344,0.03970642,-0.1587423,-0.48414832,-0.04260757,-0.065521784,0.30970964,-0.15257096,-0.031480312,-0.20976609,-0.24675348,-0.20559087,-0.086683966,0.24441469,0.1408487,0.026778355,-0.09131996,0.06152509,-0.09439497,0.13597588,0.16173194,-0.070023395,-0.2964776,-0.2533152,-0.17457008,0.06602454,-0.04625485,-0.076670624,-0.0717945,0.047734678,0.06063045,0.022393862,-0.1497327,-0.015690409,0.046233628,0.14438471,-0.16561589,0.10806256,0.06332133,0.100659594,-0.09440081,0.029504139,0.10698273,-0.11728416,0.026394015,0.16680759,-0.009693581,0.14541352,0.19116046,0.082720734,0.14279786,0.032487758,-0.0724964,0.020402815,0.18153177,-0.03729716,-0.50101745,0.064919725,-0.027554708,0.3110792,-0.070562415,-0.16380517,0.019292261,-0.09038655,0.09669968,-0.04972761,-0.03067595,0.0045589353,-0.33855593,-0.08701599,0.14767048,0.007854925,-0.11252885,-0.15416281,0.047999043,0.05746025,0.01307253,0.12254113,-0.14656128,-0.037231993,0.11276633,-0.045281164,-0.16666299,0.112790406,-0.28640643,0.29908833,-0.01014207,-0.010705412,0.03508969,0.04197661,-0.06652458,-0.12323125,-0.1702923,0.14615496,0.0071353936,-0.1714534,0.020075073,0.08156275,-0.17476559,-0.23925409,0.2579727,-0.1422534,0.014707861,-0.10963168,-0.23872398,-0.34443477,0.14152946,0.022967549,0.1892397],\"type\":\"scatter\"}],                        {\"hovermode\":\"closest\",\"title\":{\"text\":\"Word Embeddings\"},\"template\":{\"data\":{\"histogram2dcontour\":[{\"type\":\"histogram2dcontour\",\"colorbar\":{\"outlinewidth\":0,\"ticks\":\"\"},\"colorscale\":[[0.0,\"#0d0887\"],[0.1111111111111111,\"#46039f\"],[0.2222222222222222,\"#7201a8\"],[0.3333333333333333,\"#9c179e\"],[0.4444444444444444,\"#bd3786\"],[0.5555555555555556,\"#d8576b\"],[0.6666666666666666,\"#ed7953\"],[0.7777777777777778,\"#fb9f3a\"],[0.8888888888888888,\"#fdca26\"],[1.0,\"#f0f921\"]]}],\"choropleth\":[{\"type\":\"choropleth\",\"colorbar\":{\"outlinewidth\":0,\"ticks\":\"\"}}],\"histogram2d\":[{\"type\":\"histogram2d\",\"colorbar\":{\"outlinewidth\":0,\"ticks\":\"\"},\"colorscale\":[[0.0,\"#0d0887\"],[0.1111111111111111,\"#46039f\"],[0.2222222222222222,\"#7201a8\"],[0.3333333333333333,\"#9c179e\"],[0.4444444444444444,\"#bd3786\"],[0.5555555555555556,\"#d8576b\"],[0.6666666666666666,\"#ed7953\"],[0.7777777777777778,\"#fb9f3a\"],[0.8888888888888888,\"#fdca26\"],[1.0,\"#f0f921\"]]}],\"heatmap\":[{\"type\":\"heatmap\",\"colorbar\":{\"outlinewidth\":0,\"ticks\":\"\"},\"colorscale\":[[0.0,\"#0d0887\"],[0.1111111111111111,\"#46039f\"],[0.2222222222222222,\"#7201a8\"],[0.3333333333333333,\"#9c179e\"],[0.4444444444444444,\"#bd3786\"],[0.5555555555555556,\"#d8576b\"],[0.6666666666666666,\"#ed7953\"],[0.7777777777777778,\"#fb9f3a\"],[0.8888888888888888,\"#fdca26\"],[1.0,\"#f0f921\"]]}],\"heatmapgl\":[{\"type\":\"heatmapgl\",\"colorbar\":{\"outlinewidth\":0,\"ticks\":\"\"},\"colorscale\":[[0.0,\"#0d0887\"],[0.1111111111111111,\"#46039f\"],[0.2222222222222222,\"#7201a8\"],[0.3333333333333333,\"#9c179e\"],[0.4444444444444444,\"#bd3786\"],[0.5555555555555556,\"#d8576b\"],[0.6666666666666666,\"#ed7953\"],[0.7777777777777778,\"#fb9f3a\"],[0.8888888888888888,\"#fdca26\"],[1.0,\"#f0f921\"]]}],\"contourcarpet\":[{\"type\":\"contourcarpet\",\"colorbar\":{\"outlinewidth\":0,\"ticks\":\"\"}}],\"contour\":[{\"type\":\"contour\",\"colorbar\":{\"outlinewidth\":0,\"ticks\":\"\"},\"colorscale\":[[0.0,\"#0d0887\"],[0.1111111111111111,\"#46039f\"],[0.2222222222222222,\"#7201a8\"],[0.3333333333333333,\"#9c179e\"],[0.4444444444444444,\"#bd3786\"],[0.5555555555555556,\"#d8576b\"],[0.6666666666666666,\"#ed7953\"],[0.7777777777777778,\"#fb9f3a\"],[0.8888888888888888,\"#fdca26\"],[1.0,\"#f0f921\"]]}],\"surface\":[{\"type\":\"surface\",\"colorbar\":{\"outlinewidth\":0,\"ticks\":\"\"},\"colorscale\":[[0.0,\"#0d0887\"],[0.1111111111111111,\"#46039f\"],[0.2222222222222222,\"#7201a8\"],[0.3333333333333333,\"#9c179e\"],[0.4444444444444444,\"#bd3786\"],[0.5555555555555556,\"#d8576b\"],[0.6666666666666666,\"#ed7953\"],[0.7777777777777778,\"#fb9f3a\"],[0.8888888888888888,\"#fdca26\"],[1.0,\"#f0f921\"]]}],\"mesh3d\":[{\"type\":\"mesh3d\",\"colorbar\":{\"outlinewidth\":0,\"ticks\":\"\"}}],\"scatter\":[{\"fillpattern\":{\"fillmode\":\"overlay\",\"size\":10,\"solidity\":0.2},\"type\":\"scatter\"}],\"parcoords\":[{\"type\":\"parcoords\",\"line\":{\"colorbar\":{\"outlinewidth\":0,\"ticks\":\"\"}}}],\"scatterpolargl\":[{\"type\":\"scatterpolargl\",\"marker\":{\"colorbar\":{\"outlinewidth\":0,\"ticks\":\"\"}}}],\"bar\":[{\"error_x\":{\"color\":\"#2a3f5f\"},\"error_y\":{\"color\":\"#2a3f5f\"},\"marker\":{\"line\":{\"color\":\"#E5ECF6\",\"width\":0.5},\"pattern\":{\"fillmode\":\"overlay\",\"size\":10,\"solidity\":0.2}},\"type\":\"bar\"}],\"scattergeo\":[{\"type\":\"scattergeo\",\"marker\":{\"colorbar\":{\"outlinewidth\":0,\"ticks\":\"\"}}}],\"scatterpolar\":[{\"type\":\"scatterpolar\",\"marker\":{\"colorbar\":{\"outlinewidth\":0,\"ticks\":\"\"}}}],\"histogram\":[{\"marker\":{\"pattern\":{\"fillmode\":\"overlay\",\"size\":10,\"solidity\":0.2}},\"type\":\"histogram\"}],\"scattergl\":[{\"type\":\"scattergl\",\"marker\":{\"colorbar\":{\"outlinewidth\":0,\"ticks\":\"\"}}}],\"scatter3d\":[{\"type\":\"scatter3d\",\"line\":{\"colorbar\":{\"outlinewidth\":0,\"ticks\":\"\"}},\"marker\":{\"colorbar\":{\"outlinewidth\":0,\"ticks\":\"\"}}}],\"scattermapbox\":[{\"type\":\"scattermapbox\",\"marker\":{\"colorbar\":{\"outlinewidth\":0,\"ticks\":\"\"}}}],\"scatterternary\":[{\"type\":\"scatterternary\",\"marker\":{\"colorbar\":{\"outlinewidth\":0,\"ticks\":\"\"}}}],\"scattercarpet\":[{\"type\":\"scattercarpet\",\"marker\":{\"colorbar\":{\"outlinewidth\":0,\"ticks\":\"\"}}}],\"carpet\":[{\"aaxis\":{\"endlinecolor\":\"#2a3f5f\",\"gridcolor\":\"white\",\"linecolor\":\"white\",\"minorgridcolor\":\"white\",\"startlinecolor\":\"#2a3f5f\"},\"baxis\":{\"endlinecolor\":\"#2a3f5f\",\"gridcolor\":\"white\",\"linecolor\":\"white\",\"minorgridcolor\":\"white\",\"startlinecolor\":\"#2a3f5f\"},\"type\":\"carpet\"}],\"table\":[{\"cells\":{\"fill\":{\"color\":\"#EBF0F8\"},\"line\":{\"color\":\"white\"}},\"header\":{\"fill\":{\"color\":\"#C8D4E3\"},\"line\":{\"color\":\"white\"}},\"type\":\"table\"}],\"barpolar\":[{\"marker\":{\"line\":{\"color\":\"#E5ECF6\",\"width\":0.5},\"pattern\":{\"fillmode\":\"overlay\",\"size\":10,\"solidity\":0.2}},\"type\":\"barpolar\"}],\"pie\":[{\"automargin\":true,\"type\":\"pie\"}]},\"layout\":{\"autotypenumbers\":\"strict\",\"colorway\":[\"#636efa\",\"#EF553B\",\"#00cc96\",\"#ab63fa\",\"#FFA15A\",\"#19d3f3\",\"#FF6692\",\"#B6E880\",\"#FF97FF\",\"#FECB52\"],\"font\":{\"color\":\"#2a3f5f\"},\"hovermode\":\"closest\",\"hoverlabel\":{\"align\":\"left\"},\"paper_bgcolor\":\"white\",\"plot_bgcolor\":\"#E5ECF6\",\"polar\":{\"bgcolor\":\"#E5ECF6\",\"angularaxis\":{\"gridcolor\":\"white\",\"linecolor\":\"white\",\"ticks\":\"\"},\"radialaxis\":{\"gridcolor\":\"white\",\"linecolor\":\"white\",\"ticks\":\"\"}},\"ternary\":{\"bgcolor\":\"#E5ECF6\",\"aaxis\":{\"gridcolor\":\"white\",\"linecolor\":\"white\",\"ticks\":\"\"},\"baxis\":{\"gridcolor\":\"white\",\"linecolor\":\"white\",\"ticks\":\"\"},\"caxis\":{\"gridcolor\":\"white\",\"linecolor\":\"white\",\"ticks\":\"\"}},\"coloraxis\":{\"colorbar\":{\"outlinewidth\":0,\"ticks\":\"\"}},\"colorscale\":{\"sequential\":[[0.0,\"#0d0887\"],[0.1111111111111111,\"#46039f\"],[0.2222222222222222,\"#7201a8\"],[0.3333333333333333,\"#9c179e\"],[0.4444444444444444,\"#bd3786\"],[0.5555555555555556,\"#d8576b\"],[0.6666666666666666,\"#ed7953\"],[0.7777777777777778,\"#fb9f3a\"],[0.8888888888888888,\"#fdca26\"],[1.0,\"#f0f921\"]],\"sequentialminus\":[[0.0,\"#0d0887\"],[0.1111111111111111,\"#46039f\"],[0.2222222222222222,\"#7201a8\"],[0.3333333333333333,\"#9c179e\"],[0.4444444444444444,\"#bd3786\"],[0.5555555555555556,\"#d8576b\"],[0.6666666666666666,\"#ed7953\"],[0.7777777777777778,\"#fb9f3a\"],[0.8888888888888888,\"#fdca26\"],[1.0,\"#f0f921\"]],\"diverging\":[[0,\"#8e0152\"],[0.1,\"#c51b7d\"],[0.2,\"#de77ae\"],[0.3,\"#f1b6da\"],[0.4,\"#fde0ef\"],[0.5,\"#f7f7f7\"],[0.6,\"#e6f5d0\"],[0.7,\"#b8e186\"],[0.8,\"#7fbc41\"],[0.9,\"#4d9221\"],[1,\"#276419\"]]},\"xaxis\":{\"gridcolor\":\"white\",\"linecolor\":\"white\",\"ticks\":\"\",\"title\":{\"standoff\":15},\"zerolinecolor\":\"white\",\"automargin\":true,\"zerolinewidth\":2},\"yaxis\":{\"gridcolor\":\"white\",\"linecolor\":\"white\",\"ticks\":\"\",\"title\":{\"standoff\":15},\"zerolinecolor\":\"white\",\"automargin\":true,\"zerolinewidth\":2},\"scene\":{\"xaxis\":{\"backgroundcolor\":\"#E5ECF6\",\"gridcolor\":\"white\",\"linecolor\":\"white\",\"showbackground\":true,\"ticks\":\"\",\"zerolinecolor\":\"white\",\"gridwidth\":2},\"yaxis\":{\"backgroundcolor\":\"#E5ECF6\",\"gridcolor\":\"white\",\"linecolor\":\"white\",\"showbackground\":true,\"ticks\":\"\",\"zerolinecolor\":\"white\",\"gridwidth\":2},\"zaxis\":{\"backgroundcolor\":\"#E5ECF6\",\"gridcolor\":\"white\",\"linecolor\":\"white\",\"showbackground\":true,\"ticks\":\"\",\"zerolinecolor\":\"white\",\"gridwidth\":2}},\"shapedefaults\":{\"line\":{\"color\":\"#2a3f5f\"}},\"annotationdefaults\":{\"arrowcolor\":\"#2a3f5f\",\"arrowhead\":0,\"arrowwidth\":1},\"geo\":{\"bgcolor\":\"white\",\"landcolor\":\"#E5ECF6\",\"subunitcolor\":\"white\",\"showland\":true,\"showlakes\":true,\"lakecolor\":\"white\"},\"title\":{\"x\":0.05},\"mapbox\":{\"style\":\"light\"}}}},                        {\"responsive\": true}                    ).then(function(){\n",
              "                            \n",
              "var gd = document.getElementById('43d6d6dc-fae2-426c-9de8-a4fefec0a9b6');\n",
              "var x = new MutationObserver(function (mutations, observer) {{\n",
              "        var display = window.getComputedStyle(gd).display;\n",
              "        if (!display || display === 'none') {{\n",
              "            console.log([gd, 'removed!']);\n",
              "            Plotly.purge(gd);\n",
              "            observer.disconnect();\n",
              "        }}\n",
              "}});\n",
              "\n",
              "// Listen for the removal of the full notebook cells\n",
              "var notebookContainer = gd.closest('#notebook-container');\n",
              "if (notebookContainer) {{\n",
              "    x.observe(notebookContainer, {childList: true});\n",
              "}}\n",
              "\n",
              "// Listen for the clearing of the current output cell\n",
              "var outputEl = gd.closest('.output');\n",
              "if (outputEl) {{\n",
              "    x.observe(outputEl, {childList: true});\n",
              "}}\n",
              "\n",
              "                        })                };                            </script>        </div>\n",
              "</body>\n",
              "</html>"
            ]
          },
          "metadata": {}
        }
      ],
      "source": [
        "def plot_2d_embeddings(embeddings, id_start=1, count=100):\n",
        "  # Get 1st and 2nd embedding dims for the desired tokens.\n",
        "  x1 = embeddings[id_start:id_start+count, 0]\n",
        "  x2 = embeddings[id_start:id_start+count, 1]\n",
        "\n",
        "  # Get the corresponding words from the reverse index (for labeling).\n",
        "  tokens = [reverse_index[i] for i in range(id_start, id_start+count)]\n",
        "\n",
        "  # Plot with the plotly library.\n",
        "  data = plotly.Scatter(x=x1, y=x2, text=tokens,\n",
        "                        mode='markers', textposition='bottom left',\n",
        "                        hoverinfo='text')\n",
        "  fig = plotly.Figure(data=[data],\n",
        "                      layout=plotly.Layout(title=\"Word Embeddings\",\n",
        "                                           hovermode='closest'))\n",
        "  fig.show()\n",
        "\n",
        "# Very frequent tokens tend to be more syntactic than semantic, so let's plot\n",
        "# some rarer words.\n",
        "plot_2d_embeddings(embeddings2, id_start=500, count=500)"
      ]
    },
    {
      "cell_type": "markdown",
      "source": [
        "**Words positioned closer together in this space are expected to have similar meanings or contexts in the training data.**"
      ],
      "metadata": {
        "id": "qtvyyWi5rg8u"
      }
    },
    {
      "cell_type": "markdown",
      "metadata": {
        "id": "0goONtEk6aEo"
      },
      "source": [
        "### <span style=\"color:chocolate\">Exercise 8:</span> Interpreting embeddings (20 points)"
      ]
    },
    {
      "cell_type": "markdown",
      "metadata": {
        "id": "Z3Mm8MjRcZ20"
      },
      "source": [
        "Notice that the 2-D embeddings fall in a narrow diagonal band. Answer the following questions:\n",
        "\n",
        "1. Have the learned embeddings separated positive and negative words? What is the most negative word? Does this make sense?\n",
        "2. Give 2 examples of words that seem to have surprising embedding values and try to explain their positions. For example, what's going on with the tokens '7', '8', and '9'? What are two other surprising results?\n",
        "3. The embedding for 'crazy' is very close to (0,0). Explain what this means in terms of the model's output.\n",
        "4. Can you explain what you think the 2 learned embedding dimensions mean, if anything?"
      ]
    },
    {
      "cell_type": "markdown",
      "metadata": {
        "id": "x_qAAvvo2y3t"
      },
      "source": [
        "YOUR ANSWER HERE\n",
        "\n",
        "1. The y-axis of the plotly learned embeddings scatterplot shows positively associated values to be associated with positive words, and the opposite is seen for negatively connotated words. The most negative word seen is \"avoid\" which makes sense in the context of films.\n",
        "\n",
        "2. Chance and Today (seen at around [-0.3, 0.3] and [-0.4, 0.4]) have strange positions when looking at their denotation, however that may be due to the context in which they are used (positive in this case).\n",
        "\n",
        "3. Crazy being in the center means it is used fairly commonly with a neutral meaning, and there're a lot of words that have similar syntatic functions.\n",
        "\n",
        "4. I understand the learned embedded dimensions to just be a way of clustering similar words by syntax and overall tone (positive or negative). There's no big meaning but it helps show what terms are closely associated.\n"
      ]
    },
    {
      "cell_type": "markdown",
      "metadata": {
        "id": "an0sPbRr6aEo"
      },
      "source": [
        "----\n",
        "#### <span style=\"color:chocolate\">Additional practice question</span> (not graded)\n",
        "\n",
        "More data and bigger models"
      ]
    },
    {
      "cell_type": "markdown",
      "metadata": {
        "id": "IXCitmUvxfwb"
      },
      "source": [
        "Remember how you limited your input sequences to 20 tokens and 1000 vocabulary entries? Let's see how well you can do using more data and bigger models (more parameters)."
      ]
    },
    {
      "cell_type": "markdown",
      "metadata": {
        "id": "wiOsOQL96aEp"
      },
      "source": [
        "Using pieces of code from above, set up and train a model to achieve at least 80% accuracy on both training and validation data. Ensure the following elements are included:\n",
        "\n",
        "1. Truncate and pad input to the desired length;\n",
        "2. Limit the vocabulary to the desired size;\n",
        "3. Set up a model using embeddings;\n",
        "4. Use the averaging strategy rather than the concatenating strategy;\n",
        "5. Add additional layer(s) after the GlobalAveragePooling1D layer and before the output layer;\n",
        "6. Evaluate the model's performance on the test data and comment on its generalization performance. Hint: remember to apply the same preprocessing to the test data. Use the <span style=\"color:chocolate\">model.evaluate()</span> function for the final evaluation."
      ]
    },
    {
      "cell_type": "code",
      "execution_count": null,
      "metadata": {
        "id": "ekbJ4sIq2hID"
      },
      "outputs": [],
      "source": [
        "# YOUR CODE HERE"
      ]
    }
  ],
  "metadata": {
    "colab": {
      "provenance": []
    },
    "kernelspec": {
      "display_name": "Python 3 (ipykernel)",
      "language": "python",
      "name": "python3"
    },
    "language_info": {
      "codemirror_mode": {
        "name": "ipython",
        "version": 3
      },
      "file_extension": ".py",
      "mimetype": "text/x-python",
      "name": "python",
      "nbconvert_exporter": "python",
      "pygments_lexer": "ipython3",
      "version": "3.12.4"
    }
  },
  "nbformat": 4,
  "nbformat_minor": 0
}