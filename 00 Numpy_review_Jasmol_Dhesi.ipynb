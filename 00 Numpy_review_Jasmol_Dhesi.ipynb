{
 "cells": [
  {
   "cell_type": "markdown",
   "id": "68d2f193",
   "metadata": {},
   "source": [
    "# Assignment 0"
   ]
  },
  {
   "cell_type": "markdown",
   "id": "231ec299",
   "metadata": {},
   "source": [
    "### <span style=\"color:chocolate\"> Submission requirements </span>\n",
    "\n",
    "Your work will not be graded if your notebook doesn't include output. In other words, <span style=\"color:red\"> make sure to rerun your notebook before submitting to Gradescope </span> (Note: if you are using Google Colab: go to Edit > Notebook Settings  and uncheck Omit code cell output when saving this notebook, otherwise the output is not printed).\n",
    "\n",
    "Additional points may be deducted if these requirements are not met:\n",
    "\n",
    "    \n",
    "* Comment your code;\n",
    "* Each graph should have a title, labels for each axis, and (if needed) a legend. Each graph should be understandable on its own;\n",
    "* Try and minimize the use of the global namespace (meaning, keep things inside functions).\n",
    "---"
   ]
  },
  {
   "cell_type": "markdown",
   "id": "aae36a3a",
   "metadata": {},
   "source": [
    "### Import libraries"
   ]
  },
  {
   "cell_type": "code",
   "execution_count": 1,
   "id": "1d2c9a02",
   "metadata": {},
   "outputs": [],
   "source": [
    "import numpy as np\n",
    "np.random.seed(seed=1)"
   ]
  },
  {
   "cell_type": "markdown",
   "id": "8fb0f91b",
   "metadata": {},
   "source": [
    "---\n",
    "### <span style=\"color:chocolate\">Exercise 1:</span> Homogenous data types (10 points)\n",
    "\n",
    "1. Create a numpy array (my_array1) containing only integer values. Print the shape of the array and the type of its elements;\n",
    "2. Create another numpy array (my_array2) containing a mix of integer and string values. Print the shape of the array and the type of its elements. Comment on the type of its elements."
   ]
  },
  {
   "cell_type": "code",
   "execution_count": 4,
   "id": "49c4add6",
   "metadata": {},
   "outputs": [
    {
     "name": "stdout",
     "output_type": "stream",
     "text": [
      "Shape of my_array1: (10,)\n",
      "Type of elements in my_array1: int64\n",
      "Shape of my_array2: (10,)\n",
      "Type of elements in my_array2: <U21\n"
     ]
    }
   ],
   "source": [
    "# 1.1) Initialize my_array1\n",
    "list1= [0, 1, 2, 3, 4, 5, 6, 7, 8, 9]\n",
    "my_array1 = np.array(list1)\n",
    "\n",
    "# Print shape and data type of my_array1\n",
    "print(f\"Shape of my_array1: {my_array1.shape}\")\n",
    "print(f\"Type of elements in my_array1: {my_array1.dtype}\")\n",
    "\n",
    "# 1.2) Initialize my_array2\n",
    "list2= [0, 1, \"a\", \"hehehhe\", 4, 5, 6, \"mamma_mia\", 8, 9]\n",
    "my_array2 = np.array(list2)\n",
    "\n",
    "# Print shape and data type of my_array1\n",
    "print(f\"Shape of my_array2: {my_array2.shape}\")\n",
    "print(f\"Type of elements in my_array2: {my_array2.dtype}\")\n",
    "\n",
    "# The array type is <U21 which means Python converted all elements into that string type\n",
    "# The conversion to <U21 makes everything uniform but has limited numerical uses"
   ]
  },
  {
   "cell_type": "markdown",
   "id": "8becfbd2",
   "metadata": {},
   "source": [
    "---\n",
    "#### <span style=\"color:chocolate\">Exercise 2:</span> The size attribute (10 points)\n",
    "\n",
    "Create a numpy array (my_array3) and print its shape, size, and data type. What does size represent?"
   ]
  },
  {
   "cell_type": "code",
   "execution_count": 9,
   "id": "8733dbc0",
   "metadata": {},
   "outputs": [
    {
     "name": "stdout",
     "output_type": "stream",
     "text": [
      "Shape of my_array3: (2, 6)\n",
      "Size of my_array3: 12\n",
      "Type of elements in my_array3: int64\n"
     ]
    }
   ],
   "source": [
    "# 2) Initialize homogenous my_array3\n",
    "list3= [[0, 1, 2, 3, 4, 5], [44, 789, 23, 6, 86, 0]]\n",
    "my_array3 = np.array(list3)\n",
    "\n",
    "# Print shape, size, and data type of my_array3\n",
    "print(f\"Shape of my_array3: {my_array3.shape}\")\n",
    "print(f\"Size of my_array3: {my_array3.size}\")\n",
    "print(f\"Type of elements in my_array3: {my_array3.dtype}\")\n",
    "# Size represents the total number of elements in an array irrespective of the dimensions of the array"
   ]
  },
  {
   "cell_type": "markdown",
   "id": "89731f88",
   "metadata": {},
   "source": [
    "---\n",
    "#### <span style=\"color:chocolate\">Exercise 3:</span> Tabular data layout (10 points)"
   ]
  },
  {
   "cell_type": "markdown",
   "id": "89c8c4d9",
   "metadata": {},
   "source": [
    "Create a tabular data layout using the numpy method <span style=\"color:chocolate\">np.random.random()</span>, where:\n",
    "* the first input is num_samples, and\n",
    "* the second input is num_features. \n",
    "\n",
    "Print the shape of the array."
   ]
  },
  {
   "cell_type": "code",
   "execution_count": 16,
   "id": "dcabc0b0",
   "metadata": {},
   "outputs": [
    {
     "name": "stdout",
     "output_type": "stream",
     "text": [
      "Size of tabular_data: (100, 17)\n"
     ]
    }
   ],
   "source": [
    "# already defined first and second inputs\n",
    "num_samples = 100\n",
    "num_features = 17\n",
    "\n",
    "# YOUR CODE HERE\n",
    "tabular_data = np.random.random((num_samples, num_features))\n",
    "\n",
    "# Print shape of tabular_data\n",
    "print(f\"Shape of tabular_data: {tabular_data.shape}\")"
   ]
  },
  {
   "cell_type": "markdown",
   "id": "9ea1e400",
   "metadata": {},
   "source": [
    "---\n",
    "#### <span style=\"color:chocolate\">Exercise 4:</span> Image data layout (10 points)"
   ]
  },
  {
   "cell_type": "markdown",
   "id": "7c5b220a",
   "metadata": {},
   "source": [
    "Create an image data layout using the numpy method <span style=\"color:chocolate\">np.random.random()</span>, where:\n",
    "\n",
    "* the first input is num_images;\n",
    "* the second input is num_rows;\n",
    "* the third input is num_cols;\n",
    "* the fourth input is num_channels.\n",
    "\n",
    "Print the shape of the array."
   ]
  },
  {
   "cell_type": "code",
   "execution_count": 17,
   "id": "9b371f29",
   "metadata": {},
   "outputs": [
    {
     "name": "stdout",
     "output_type": "stream",
     "text": [
      "Shape of image_data: (100, 256, 256, 3)\n"
     ]
    }
   ],
   "source": [
    "# already defined inputs\n",
    "num_images = 100\n",
    "num_rows = 256\n",
    "num_cols = 256\n",
    "num_channels = 3 #(RGB)\n",
    "\n",
    "# YOUR CODE HERE\n",
    "image_data = np.random.random((num_images, num_rows, num_cols, num_channels))\n",
    "\n",
    "# Print shape of tabular_data\n",
    "print(f\"Shape of image_data: {image_data.shape}\")"
   ]
  },
  {
   "cell_type": "markdown",
   "id": "19d7b075",
   "metadata": {},
   "source": [
    "---\n",
    "#### <span style=\"color:chocolate\">Exercise 5: </span>Mathematical operations on numpy arrays (15 points)"
   ]
  },
  {
   "cell_type": "markdown",
   "id": "b88b701f",
   "metadata": {},
   "source": [
    "Create a (3, 2) numpy array (you can name it my_array4) containing only integer values. Perform the following tasks:\n",
    "\n",
    "1. Print the shape of the array;\n",
    "2. Print the sum of all elements (hint: the axis argument is set to None);\n",
    "3. Print the sum of all elements by column;\n",
    "3. Print the sum of all elements by row and change the type of the resulting array elements to float;\n",
    "5. Print the first row of the array;\n",
    "6. Print the second row of the array;\n",
    "7. Select the element at position (1, 0);\n",
    "8. Modify the element at position (2, 1) by setting its value to 10 and print the array again;\n",
    "9. Loop over elements in the array. Print the output."
   ]
  },
  {
   "cell_type": "code",
   "execution_count": 50,
   "id": "5efe6c22",
   "metadata": {},
   "outputs": [
    {
     "name": "stdout",
     "output_type": "stream",
     "text": [
      "Shape of my_array4: (3, 6)\n",
      "Sum of all elements: 3427\n",
      "Sum of all elements by column: [  67 1431  268  255  624  782]\n",
      "Sum of all elements by row: [  15.  948. 2464.]\n",
      "First row of array: [0 1 2 3 4 5]\n",
      "Second row of array: [ 44 789  23   6  86   0]\n",
      "Select the element at position (1, 0): 44\n",
      "Modify the element at position (2, 1) by setting its value to 10 and print the array again: 10\n",
      "Element at position (0, 0) is 0\n",
      "Element at position (0, 1) is 1\n",
      "Element at position (0, 2) is 2\n",
      "Element at position (0, 3) is 3\n",
      "Element at position (0, 4) is 4\n",
      "Element at position (0, 5) is 5\n",
      "Element at position (1, 0) is 44\n",
      "Element at position (1, 1) is 789\n",
      "Element at position (1, 2) is 23\n",
      "Element at position (1, 3) is 6\n",
      "Element at position (1, 4) is 86\n",
      "Element at position (1, 5) is 0\n",
      "Element at position (2, 0) is 23\n",
      "Element at position (2, 1) is 10\n",
      "Element at position (2, 2) is 243\n",
      "Element at position (2, 3) is 246\n",
      "Element at position (2, 4) is 534\n",
      "Element at position (2, 5) is 777\n"
     ]
    }
   ],
   "source": [
    "# YOUR CODE HERE\n",
    "\n",
    "#Initialize 3x2 array\n",
    "list4= [[0, 1, 2, 3, 4, 5], [44, 789, 23, 6, 86, 0], [23, 641, 243, 246, 534,777]]\n",
    "my_array4 = np.array(list4)\n",
    "\n",
    "# Print shape of my_array4\n",
    "print(f\"Shape of my_array4: {my_array4.shape}\")\n",
    "\n",
    "# Print sum of all elements\n",
    "print(f\"Sum of all elements: {np.sum(my_array4)}\")\n",
    "\n",
    "# Print sum of all elements by columns\n",
    "print(f\"Sum of all elements by column: {np.sum(my_array4, axis=0)}\")\n",
    "\n",
    "# Print sum of all elements by row and change the type of the resulting array elements to float\n",
    "print(f\"Sum of all elements by row: {np.sum(my_array4, axis=1).astype(float)}\")\n",
    "\n",
    "# Print first row of array\n",
    "print(f\"First row of array: {my_array4[0, :]}\")\n",
    "\n",
    "# Print second row of array\n",
    "print(f\"Second row of array: {my_array4[1, :]}\")\n",
    "\n",
    "# Select the element at position (1, 0)\n",
    "print(f\"Select the element at position (1, 0): {my_array4[1, 0]}\")\n",
    "\n",
    "# Modify the element at position (2, 1) by setting its value to 10 and print the array again\n",
    "my_array4[2,1] = 10\n",
    "print(f\"Modify the element at position (2, 1) by setting its value to 10 and print the array again: {my_array4[2, 1]}\")\n",
    "\n",
    "# Loop over elements in the array. Print the output.\n",
    "for i in range(my_array4.shape[0]):\n",
    "    for j in range(my_array4.shape[1]):\n",
    "        print(f\"Element at position ({i}, {j}) is {my_array4[i, j]}\")"
   ]
  },
  {
   "cell_type": "markdown",
   "id": "7a7e249a",
   "metadata": {},
   "source": [
    "You can find more examples here: https://numpy.org/doc/stable/reference/routines.math.html"
   ]
  },
  {
   "cell_type": "markdown",
   "id": "7f71edb9",
   "metadata": {},
   "source": [
    "---\n",
    "#### <span style=\"color:chocolate\">Exercise 6:</span> Create arrays (15 points)\n",
    "\n",
    "1. Create and print a (3,2) numpy array of pixel values between 0 and 1.\n",
    "2. Create and print a (27,) numpy array representing years from 1991 to 2017\n",
    "3. Create and print a (3, 5, 10) numpy array of zeros\n",
    "4. Create and print a (3, 5, 10) numpy array of ones\n",
    "5. Create and print an array with a constant value (let's say 5) using np.ones()\n",
    "6. Create and print an array with random numbers drawn from a normal distribution with mean 0 and standard deviation 1. Set the sample size to 10.\n"
   ]
  },
  {
   "cell_type": "code",
   "execution_count": 62,
   "id": "b1bf53cb",
   "metadata": {},
   "outputs": [
    {
     "name": "stdout",
     "output_type": "stream",
     "text": [
      "3x2 array of pixel values between 0 and 1:\n",
      "[[0.67512814 0.05833417]\n",
      " [0.88433504 0.70844905]\n",
      " [0.03160391 0.8382055 ]]\n",
      "\n",
      "Array representing years from 1991 to 2017:\n",
      "[1991 1992 1993 1994 1995 1996 1997 1998 1999 2000 2001 2002 2003 2004\n",
      " 2005 2006 2007 2008 2009 2010 2011 2012 2013 2014 2015 2016 2017]\n",
      "\n",
      "(3, 5, 10) numpy array of zeros:\n",
      "[[[0. 0. 0. 0. 0. 0. 0. 0. 0. 0.]\n",
      "  [0. 0. 0. 0. 0. 0. 0. 0. 0. 0.]\n",
      "  [0. 0. 0. 0. 0. 0. 0. 0. 0. 0.]\n",
      "  [0. 0. 0. 0. 0. 0. 0. 0. 0. 0.]\n",
      "  [0. 0. 0. 0. 0. 0. 0. 0. 0. 0.]]\n",
      "\n",
      " [[0. 0. 0. 0. 0. 0. 0. 0. 0. 0.]\n",
      "  [0. 0. 0. 0. 0. 0. 0. 0. 0. 0.]\n",
      "  [0. 0. 0. 0. 0. 0. 0. 0. 0. 0.]\n",
      "  [0. 0. 0. 0. 0. 0. 0. 0. 0. 0.]\n",
      "  [0. 0. 0. 0. 0. 0. 0. 0. 0. 0.]]\n",
      "\n",
      " [[0. 0. 0. 0. 0. 0. 0. 0. 0. 0.]\n",
      "  [0. 0. 0. 0. 0. 0. 0. 0. 0. 0.]\n",
      "  [0. 0. 0. 0. 0. 0. 0. 0. 0. 0.]\n",
      "  [0. 0. 0. 0. 0. 0. 0. 0. 0. 0.]\n",
      "  [0. 0. 0. 0. 0. 0. 0. 0. 0. 0.]]]\n",
      "\n",
      "(3, 5, 10) numpy array of ones:\n",
      "[[[1. 1. 1. 1. 1. 1. 1. 1. 1. 1.]\n",
      "  [1. 1. 1. 1. 1. 1. 1. 1. 1. 1.]\n",
      "  [1. 1. 1. 1. 1. 1. 1. 1. 1. 1.]\n",
      "  [1. 1. 1. 1. 1. 1. 1. 1. 1. 1.]\n",
      "  [1. 1. 1. 1. 1. 1. 1. 1. 1. 1.]]\n",
      "\n",
      " [[1. 1. 1. 1. 1. 1. 1. 1. 1. 1.]\n",
      "  [1. 1. 1. 1. 1. 1. 1. 1. 1. 1.]\n",
      "  [1. 1. 1. 1. 1. 1. 1. 1. 1. 1.]\n",
      "  [1. 1. 1. 1. 1. 1. 1. 1. 1. 1.]\n",
      "  [1. 1. 1. 1. 1. 1. 1. 1. 1. 1.]]\n",
      "\n",
      " [[1. 1. 1. 1. 1. 1. 1. 1. 1. 1.]\n",
      "  [1. 1. 1. 1. 1. 1. 1. 1. 1. 1.]\n",
      "  [1. 1. 1. 1. 1. 1. 1. 1. 1. 1.]\n",
      "  [1. 1. 1. 1. 1. 1. 1. 1. 1. 1.]\n",
      "  [1. 1. 1. 1. 1. 1. 1. 1. 1. 1.]]]\n",
      "\n",
      "(3, 5, 10) numpy array of fives\n",
      "[[[5. 5. 5. 5. 5. 5. 5. 5. 5. 5.]\n",
      "  [5. 5. 5. 5. 5. 5. 5. 5. 5. 5.]\n",
      "  [5. 5. 5. 5. 5. 5. 5. 5. 5. 5.]\n",
      "  [5. 5. 5. 5. 5. 5. 5. 5. 5. 5.]\n",
      "  [5. 5. 5. 5. 5. 5. 5. 5. 5. 5.]]\n",
      "\n",
      " [[5. 5. 5. 5. 5. 5. 5. 5. 5. 5.]\n",
      "  [5. 5. 5. 5. 5. 5. 5. 5. 5. 5.]\n",
      "  [5. 5. 5. 5. 5. 5. 5. 5. 5. 5.]\n",
      "  [5. 5. 5. 5. 5. 5. 5. 5. 5. 5.]\n",
      "  [5. 5. 5. 5. 5. 5. 5. 5. 5. 5.]]\n",
      "\n",
      " [[5. 5. 5. 5. 5. 5. 5. 5. 5. 5.]\n",
      "  [5. 5. 5. 5. 5. 5. 5. 5. 5. 5.]\n",
      "  [5. 5. 5. 5. 5. 5. 5. 5. 5. 5.]\n",
      "  [5. 5. 5. 5. 5. 5. 5. 5. 5. 5.]\n",
      "  [5. 5. 5. 5. 5. 5. 5. 5. 5. 5.]]]\n",
      "\n",
      "Array with random numbers from a normal distribution (mean 0, std 1):\n",
      "[-1.60582827 -0.09860728 -0.63041113 -0.25143326  1.57422795 -0.57193412\n",
      " -1.05667096 -0.39912449 -0.92428579 -0.29231408]\n"
     ]
    }
   ],
   "source": [
    "# YOUR CODE HERE\n",
    "\n",
    "# 1) Create and print a (3,2) numpy array of pixel values between 0 and 1.\n",
    "pixel_array = np.random.random((3, 2))\n",
    "print(f\"3x2 array of pixel values between 0 and 1:\\n{pixel_array}\")\n",
    "\n",
    "# 2) Create and print a (27,) numpy array representing years from 1991 to 2017\n",
    "years_array = np.arange(1991, 2018)\n",
    "print(f\"\\nArray representing years from 1991 to 2017:\\n{years_array}\")\n",
    "\n",
    "# 3) Create and print a (3, 5, 10) numpy array of zeros\n",
    "zero_array = np.zeros((3,5,10))\n",
    "print(f\"\\n(3, 5, 10) numpy array of zeros:\\n{zero_array}\")\n",
    "\n",
    "# 4) Create and print a (3, 5, 10) numpy array of ones\n",
    "ones_array = np.ones((3,5,10))\n",
    "print(f\"\\n(3, 5, 10) numpy array of ones:\\n{ones_array}\")\n",
    "\n",
    "# 5) Create and print an array with a constant value (let's say 5) using np.ones()\n",
    "fives_array = np.ones((3,5,10))*5\n",
    "print(f\"\\n(3, 5, 10) numpy array of fives\\n{fives_array}\")\n",
    "\n",
    "# 6) Create and print an array with random numbers drawn from a normal distribution with mean 0 and standard deviation 1. Set the sample size to 10.\n",
    "normal_array = np.random.normal(0,1,10)\n",
    "print(f\"\\nArray with random numbers from a normal distribution (mean 0, std 1):\\n{normal_array}\")"
   ]
  },
  {
   "cell_type": "markdown",
   "id": "4fd05963",
   "metadata": {},
   "source": [
    "---\n",
    "#### <span style=\"color:chocolate\">Exercise 7:</span> Reshape arrays (10 points)"
   ]
  },
  {
   "cell_type": "markdown",
   "id": "e139e4eb",
   "metadata": {},
   "source": [
    "Consider the following array:"
   ]
  },
  {
   "cell_type": "code",
   "execution_count": 64,
   "id": "a5a192dc",
   "metadata": {},
   "outputs": [
    {
     "name": "stdout",
     "output_type": "stream",
     "text": [
      "(27,)\n"
     ]
    }
   ],
   "source": [
    "years = np.arange(1991, 2018, 1)\n",
    "print(years.shape)"
   ]
  },
  {
   "cell_type": "markdown",
   "id": "d3255640",
   "metadata": {},
   "source": [
    "Perform the following operations on this array:\n",
    "    \n",
    "1. Create 3 nested arrays, each of size (3, 3). Call this array years_3d;\n",
    "2. Convert the years_3d array to a flat 1D array. Call this array years_1d;\n",
    "3. Add a new axis (in front) to the years_1d array. Call this array years_2d;\n",
    "4. Remove the first axis from years_2d array. Call this array years_1d.\n",
    "\n",
    "For each exercise print the array and its shape."
   ]
  },
  {
   "cell_type": "code",
   "execution_count": 81,
   "id": "ab18878a",
   "metadata": {},
   "outputs": [
    {
     "name": "stdout",
     "output_type": "stream",
     "text": [
      "***Operation 1***\n",
      "3D array of years (years_3d):\n",
      "[[[1991 1992 1993]\n",
      "  [1994 1995 1996]\n",
      "  [1997 1998 1999]]\n",
      "\n",
      " [[2000 2001 2002]\n",
      "  [2003 2004 2005]\n",
      "  [2006 2007 2008]]\n",
      "\n",
      " [[2009 2010 2011]\n",
      "  [2012 2013 2014]\n",
      "  [2015 2016 2017]]]\n",
      "\n",
      "Shape of 3D array of years (years_3d):(3, 3, 3)\n",
      "\n",
      "***Operation 2***\n",
      "Flattened 1D array (years_1d):\n",
      "[1991 1992 1993 1994 1995 1996 1997 1998 1999 2000 2001 2002 2003 2004\n",
      " 2005 2006 2007 2008 2009 2010 2011 2012 2013 2014 2015 2016 2017]\n",
      "\n",
      "Shape of flattened 1D array (years_1d):(27,)\n",
      "\n",
      "***Operation 3***\n",
      "2D array with new axis in front(years_2d):\n",
      "[[1991 1992 1993 1994 1995 1996 1997 1998 1999 2000 2001 2002 2003 2004\n",
      "  2005 2006 2007 2008 2009 2010 2011 2012 2013 2014 2015 2016 2017]]\n",
      "\n",
      "Shape of 2D array with new axis in front(years_2d):(1, 27)\n",
      "\n",
      "***Operation 4***\n",
      "1D array with front axis removed (years_1d):\n",
      "[1991 1992 1993 1994 1995 1996 1997 1998 1999 2000 2001 2002 2003 2004\n",
      " 2005 2006 2007 2008 2009 2010 2011 2012 2013 2014 2015 2016 2017]\n",
      "\n",
      "Shape of 1D array with front axis removed (years_1d):(27,)\n"
     ]
    }
   ],
   "source": [
    "# YOUR CODE HERE\n",
    "\n",
    "# 1) Create 3 nested arrays, each of size (3, 3). Call this array years_3d;\n",
    "years_3d = years.reshape((3, 3, 3))\n",
    "print(f\"***Operation 1***\\n3D array of years (years_3d):\\n{years_3d}\")\n",
    "print(f\"\\nShape of 3D array of years (years_3d):{years_3d.shape}\")\n",
    "\n",
    "# 2) Convert the years_3d array to a flat 1D array. Call this array years_1d;\n",
    "years_1d = years_3d.flatten()\n",
    "print(f\"\\n***Operation 2***\\nFlattened 1D array (years_1d):\\n{years_1d}\")\n",
    "print(f\"\\nShape of flattened 1D array (years_1d):{years_1d.shape}\")\n",
    "\n",
    "# 3) Add a new axis (in front) to the years_1d array. Call this array years_2d;\n",
    "years_2d = years_1d[np.newaxis, :]\n",
    "print(f\"\\n***Operation 3***\\n2D array with new axis in front(years_2d):\\n{years_2d}\")\n",
    "print(f\"\\nShape of 2D array with new axis in front(years_2d):{years_2d.shape}\")\n",
    "\n",
    "# 3) Remove the first axis from years_2d array. Call this array years_1d.\n",
    "years_1d = np.squeeze(years_2d)\n",
    "print(f\"\\n***Operation 4***\\n1D array with front axis removed (years_1d):\\n{years_1d}\")\n",
    "print(f\"\\nShape of 1D array with front axis removed (years_1d):{years_1d.shape}\")"
   ]
  },
  {
   "cell_type": "markdown",
   "id": "6a3a4011",
   "metadata": {},
   "source": [
    "---\n",
    "#### <span style=\"color:chocolate\">Exercise 8:</span> Joining arrays (10 points)"
   ]
  },
  {
   "cell_type": "markdown",
   "id": "5382a84a",
   "metadata": {},
   "source": [
    "Provide 8 examples that use the methods <span style=\"color:cornflowerBlue\">np.concatenate()</span> and <span style=\"color:cornflowerBlue\">np.stack()</span>. Note: create 4 examples using each method."
   ]
  },
  {
   "cell_type": "code",
   "execution_count": 99,
   "id": "a9c2ff1a",
   "metadata": {},
   "outputs": [
    {
     "name": "stdout",
     "output_type": "stream",
     "text": [
      "Ex. 1: Concatenating 'a' and 'b' vertically:\n",
      "[[1 2]\n",
      " [3 4]\n",
      " [5 6]]\n",
      "\n",
      "Ex. 2: Concatenating 'b' and 'a' vertically (reversed order):\n",
      "[[5 6]\n",
      " [1 2]\n",
      " [3 4]]\n",
      "\n",
      "Ex. 3: Concatenating string arrays 'a' and 'b' vertically:\n",
      "[['bb' 'a']\n",
      " ['fgh67' 'terhug']\n",
      " ['ehbfer' 'fhu43']]\n",
      "\n",
      "Ex. 4: Concatenating string arrays 'b' and 'a' vertically (reversed order):\n",
      "[['ehbfer' 'fhu43']\n",
      " ['bb' 'a']\n",
      " ['fgh67' 'terhug']]\n",
      "\n",
      "Ex. 5: Stacking 'a' and 'b' vertically to form a 2D array:\n",
      "[[1 2]\n",
      " [5 6]]\n",
      "\n",
      "Ex. 6: Stacking 'a' and 'b' horizontally to form a 2D array:\n",
      "[[1 5]\n",
      " [2 6]]\n",
      "\n",
      "Ex. 7: Stacking 'a' and 'b' along the last axis (creating a 3D array):\n",
      "[[[1 5]\n",
      "  [2 6]]\n",
      "\n",
      " [[3 7]\n",
      "  [4 8]]]\n",
      "\n",
      "Ex. 8: Stacking 'a' and 'b' along the first axis (creating a 3D array):\n",
      "[[[1 2]\n",
      "  [3 4]]\n",
      "\n",
      " [[5 6]\n",
      "  [7 8]]]\n",
      "\n"
     ]
    }
   ],
   "source": [
    "# YOUR CODE HERE\n",
    "\n",
    "import numpy as np\n",
    "\n",
    "# Create two 2D integer arrays 'a' and 'b'\n",
    "a = np.array([[1, 2], [3, 4]])\n",
    "b = np.array([[5, 6]])\n",
    "\n",
    "# Ex. 1 Concatenate 'a' and 'b' along the first axis (vertically)\n",
    "arr_1 = np.concatenate((a, b))\n",
    "print(f\"Ex. 1: Concatenating 'a' and 'b' vertically:\\n{arr_1}\\n\")\n",
    "\n",
    "# Ex. 2 Concatenate 'a' and 'b' along the first axis (vertically), but reversing the order\n",
    "arr_2 = np.concatenate((b, a))\n",
    "print(f\"Ex. 2: Concatenating 'b' and 'a' vertically (reversed order):\\n{arr_2}\\n\")\n",
    "\n",
    "# Create two 2D string arrays 'a' and 'b'\n",
    "a = np.array([[\"bb\", \"a\"], [\"fgh67\", \"terhug\"]])\n",
    "b = np.array([[\"ehbfer\", \"fhu43\"]])\n",
    "\n",
    "# Ex. 3 Concatenate 'a' and 'b' along the first axis (vertically)\n",
    "arr_3 = np.concatenate((a, b))\n",
    "print(f\"Ex. 3: Concatenating string arrays 'a' and 'b' vertically:\\n{arr_3}\\n\")\n",
    "\n",
    "# Ex. 4 Concatenate 'b' and 'a' along the first axis (vertically), but reversing the order\n",
    "arr_4 = np.concatenate((b, a))\n",
    "print(f\"Ex. 4: Concatenating string arrays 'b' and 'a' vertically (reversed order):\\n{arr_4}\\n\")\n",
    "\n",
    "# Create two 1D integer arrays 'a' and 'b'\n",
    "a = np.array([1, 2])\n",
    "b = np.array([5, 6])\n",
    "\n",
    "# Ex. 5 Stack 'a' and 'b' vertically to create a 2D array\n",
    "arr_5 = np.stack((a, b))\n",
    "print(f\"Ex. 5: Stacking 'a' and 'b' vertically to form a 2D array:\\n{arr_5}\\n\")\n",
    "\n",
    "# Ex. 6 Stack 'a' and 'b' horizontally to create a 2D array\n",
    "arr_6 = np.stack((a, b), axis=1)\n",
    "print(f\"Ex. 6: Stacking 'a' and 'b' horizontally to form a 2D array:\\n{arr_6}\\n\")\n",
    "\n",
    "# Create two 2D integer arrays 'a' and 'b'\n",
    "a = np.array([[1, 2], [3, 4]])\n",
    "b = np.array([[5, 6], [7, 8]])\n",
    "\n",
    "# Ex. 7 Stack 'a' and 'b' along the last axis (creating a 3D array)\n",
    "arr_7 = np.stack((a, b), axis=-1)\n",
    "print(f\"Ex. 7: Stacking 'a' and 'b' along the last axis (creating a 3D array):\\n{arr_7}\\n\")\n",
    "\n",
    "# Ex. 8 Stack 'a' and 'b' along the first axis (creating a 3D array)\n",
    "arr_8 = np.stack((a, b), axis=0)\n",
    "print(f\"Ex. 8: Stacking 'a' and 'b' along the first axis (creating a 3D array):\\n{arr_8}\\n\")"
   ]
  },
  {
   "cell_type": "markdown",
   "id": "7780b5b8",
   "metadata": {},
   "source": [
    "---\n",
    "#### <span style=\"color:chocolate\">Numpy broadcasting</span> "
   ]
  },
  {
   "cell_type": "markdown",
   "id": "d105a999",
   "metadata": {},
   "source": [
    "The term broadcasting describes how NumPy treats arrays during arithmetic operations. You can find more here:  https://numpy.org/doc/stable/user/basics.broadcasting.html"
   ]
  },
  {
   "cell_type": "code",
   "execution_count": 82,
   "id": "ce9ca817",
   "metadata": {},
   "outputs": [
    {
     "data": {
      "text/plain": [
       "array([1991, 1992, 1993, 1994, 1995, 1996, 1997, 1998, 1999, 2000, 2001,\n",
       "       2002, 2003, 2004, 2005, 2006, 2007, 2008, 2009, 2010, 2011, 2012,\n",
       "       2013, 2014, 2015, 2016, 2017])"
      ]
     },
     "execution_count": 82,
     "metadata": {},
     "output_type": "execute_result"
    }
   ],
   "source": [
    "# multiplying an array with a scalar\n",
    "years = np.arange(1991, 2018, 1)\n",
    "years * 1"
   ]
  },
  {
   "cell_type": "code",
   "execution_count": 83,
   "id": "d2150eb6",
   "metadata": {},
   "outputs": [
    {
     "data": {
      "text/plain": [
       "array([1993, 1994, 1995, 1996, 1997, 1998, 1999, 2000, 2001, 2002, 2003,\n",
       "       2004, 2005, 2006, 2007, 2008, 2009, 2010, 2011, 2012, 2013, 2014,\n",
       "       2015, 2016, 2017, 2018, 2019])"
      ]
     },
     "execution_count": 83,
     "metadata": {},
     "output_type": "execute_result"
    }
   ],
   "source": [
    "# adding a scalar\n",
    "years + 2"
   ]
  },
  {
   "cell_type": "code",
   "execution_count": 84,
   "id": "d7319a34",
   "metadata": {},
   "outputs": [
    {
     "name": "stdout",
     "output_type": "stream",
     "text": [
      "Array a: [0 1 2]\n",
      "Array b: [0 1 2]\n",
      "Sum of a and b: [0 2 4]\n"
     ]
    }
   ],
   "source": [
    "# many arithmetic operations are applied element wise on a pair of arrays\n",
    "a = np.arange(3)\n",
    "print('Array a:', a)\n",
    "b = np.arange(3)\n",
    "print('Array b:', b)\n",
    "print('Sum of a and b:', a+b)"
   ]
  },
  {
   "cell_type": "code",
   "execution_count": 85,
   "id": "44ac94cd",
   "metadata": {},
   "outputs": [
    {
     "name": "stdout",
     "output_type": "stream",
     "text": [
      "Array a: [[1. 1. 1.]\n",
      " [1. 1. 1.]\n",
      " [1. 1. 1.]]\n",
      "\n",
      "Array b: [0 1 2]\n",
      "\n",
      "Sum of a and b: [[1. 2. 3.]\n",
      " [1. 2. 3.]\n",
      " [1. 2. 3.]]\n"
     ]
    }
   ],
   "source": [
    "# another example\n",
    "a = np.ones((3, 3))\n",
    "print('Array a:', a)\n",
    "b = np.arange(3)\n",
    "print('\\nArray b:', b)\n",
    "print('\\nSum of a and b:', a+b)"
   ]
  },
  {
   "cell_type": "markdown",
   "id": "85e7d3c8",
   "metadata": {},
   "source": [
    "---\n",
    "#### <span style=\"color:chocolate\">Exercise 9:</span> Numpy array standardization (10 points)"
   ]
  },
  {
   "cell_type": "markdown",
   "id": "9bccc9d7",
   "metadata": {},
   "source": [
    "Consider the following (10, 4) array:"
   ]
  },
  {
   "cell_type": "code",
   "execution_count": 100,
   "id": "02a2102e",
   "metadata": {},
   "outputs": [
    {
     "name": "stdout",
     "output_type": "stream",
     "text": [
      "my_array shape:  (10, 4)\n"
     ]
    },
    {
     "data": {
      "text/plain": [
       "array([[0.17570345, 0.30260207, 0.06580329, 0.88611332],\n",
       "       [0.69979914, 0.08792672, 0.29223849, 0.83994739],\n",
       "       [0.77018785, 0.633768  , 0.59914193, 0.93710767],\n",
       "       [0.58916931, 0.01857738, 0.81493963, 0.0999022 ],\n",
       "       [0.97972572, 0.84550635, 0.4556143 , 0.24327394],\n",
       "       [0.22992653, 0.26088887, 0.63883091, 0.70883718],\n",
       "       [0.3522388 , 0.0377845 , 0.74929995, 0.47100049],\n",
       "       [0.03872695, 0.23194054, 0.56470709, 0.06048921],\n",
       "       [0.7651935 , 0.15181471, 0.19521509, 0.52815816],\n",
       "       [0.49674863, 0.18707097, 0.76869568, 0.35771188]])"
      ]
     },
     "execution_count": 100,
     "metadata": {},
     "output_type": "execute_result"
    }
   ],
   "source": [
    "my_array = np.random.random((10, 4))\n",
    "print('my_array shape: ', my_array.shape)\n",
    "my_array"
   ]
  },
  {
   "cell_type": "markdown",
   "id": "c505935d",
   "metadata": {},
   "source": [
    "Peform the following operations on this array:\n",
    "1. Compute and print the mean and std for each column (note: set keepdims=True for proper broadcasting).\n",
    "2. Standardize and print the array and its shape using the mean and std you computed above."
   ]
  },
  {
   "cell_type": "code",
   "execution_count": 110,
   "id": "5a88c63d",
   "metadata": {},
   "outputs": [
    {
     "name": "stdout",
     "output_type": "stream",
     "text": [
      "Mean of each column:\n",
      "[[0.50974199 0.27578801 0.51444864 0.51325414]]\n",
      "Standard deviation of each column:\n",
      "[[0.28863685 0.25237416 0.24316515 0.3063663 ]]\n",
      "\n",
      "Standardized array:\n",
      "[[-1.15729689  0.10624726 -1.84502324  1.21703717]\n",
      " [ 0.65846461 -0.74437609 -0.91382398  1.0663485 ]\n",
      " [ 0.9023306   1.41844945  0.34829536  1.38348611]\n",
      " [ 0.2751808  -1.01916389  1.23574861 -1.34920827]\n",
      " [ 1.62828733  2.25743528 -0.24195216 -0.88123337]\n",
      " [-0.96943773 -0.05903594  0.51151359  0.63839606]\n",
      " [-0.54567942 -0.94305816  0.96580994 -0.13791873]\n",
      " [-1.63186035 -0.17373994  0.20668444 -1.47785489]\n",
      " [ 0.88502735 -0.49122817 -1.31282609  0.04864771]\n",
      " [-0.04501629 -0.3515298   1.04557354 -0.5077003 ]]\n",
      "\n",
      "Shape of standardized array: (10, 4)\n"
     ]
    }
   ],
   "source": [
    "# YOUR CODE HERE\n",
    "\n",
    "# Compute the mean and standard deviation for each column\n",
    "column_means = np.mean(my_array, axis=0, keepdims=True)\n",
    "column_stds = np.std(my_array, axis=0, keepdims=True)\n",
    "\n",
    "print(f\"Mean of each column:\\n{column_means}\")\n",
    "print(f\"Standard deviation of each column:\\n{column_stds}\")\n",
    "\n",
    "# Standardize the array\n",
    "standardized_array = (my_array - column_means) / column_stds\n",
    "\n",
    "# Print the standardized array and its shape\n",
    "print(f\"\\nStandardized array:\\n{standardized_array}\")\n",
    "print(f\"\\nShape of standardized array: {standardized_array.shape}\")"
   ]
  },
  {
   "cell_type": "markdown",
   "id": "ebe2eaa0",
   "metadata": {},
   "source": [
    "----\n",
    "#### <span style=\"color:chocolate\">Additional practice question</span> (not graded)"
   ]
  },
  {
   "cell_type": "markdown",
   "id": "d43bdaa7",
   "metadata": {},
   "source": [
    "Consider the following image:"
   ]
  },
  {
   "cell_type": "code",
   "execution_count": null,
   "id": "e7c61c06",
   "metadata": {},
   "outputs": [],
   "source": [
    "my_image = np.arange(0, 1, 0.04).reshape(5,5)\n",
    "print(my_image)\n",
    "my_image.shape"
   ]
  },
  {
   "cell_type": "markdown",
   "id": "78f029bd",
   "metadata": {},
   "source": [
    "Perform the following operations on this image (do not overwrite the original image):\n",
    "\n",
    "1. Crop by using a border of size 1;\n",
    "2. Crop by removing:\n",
    "    * the first and the last two rows, and\n",
    "    * the first and the last two columns;\n",
    "3. Reverse the column order;\n",
    "4. set to 0.5 elements divizible by 2."
   ]
  },
  {
   "cell_type": "code",
   "execution_count": null,
   "id": "d7dadfcf",
   "metadata": {},
   "outputs": [],
   "source": [
    "# YOUR CODE HERE"
   ]
  }
 ],
 "metadata": {
  "kernelspec": {
   "display_name": "Python 3 (ipykernel)",
   "language": "python",
   "name": "python3"
  },
  "language_info": {
   "codemirror_mode": {
    "name": "ipython",
    "version": 3
   },
   "file_extension": ".py",
   "mimetype": "text/x-python",
   "name": "python",
   "nbconvert_exporter": "python",
   "pygments_lexer": "ipython3",
   "version": "3.11.7"
  }
 },
 "nbformat": 4,
 "nbformat_minor": 5
}
